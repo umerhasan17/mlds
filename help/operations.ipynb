{
  "nbformat": 4,
  "nbformat_minor": 0,
  "metadata": {
    "colab": {
      "name": "operations",
      "provenance": [],
      "collapsed_sections": [],
      "authorship_tag": "ABX9TyObm4IRmg1tyyY216wVDWq0",
      "include_colab_link": true
    },
    "kernelspec": {
      "name": "python3",
      "display_name": "Python 3"
    }
  },
  "cells": [
    {
      "cell_type": "markdown",
      "metadata": {
        "id": "view-in-github",
        "colab_type": "text"
      },
      "source": [
        "<a href=\"https://colab.research.google.com/github/umerhasan17/mlds/blob/master/help/operations.ipynb\" target=\"_parent\"><img src=\"https://colab.research.google.com/assets/colab-badge.svg\" alt=\"Open In Colab\"/></a>"
      ]
    },
    {
      "cell_type": "code",
      "metadata": {
        "id": "EOkkLSC8fSMa",
        "colab_type": "code",
        "colab": {
          "base_uri": "https://localhost:8080/",
          "height": 122
        },
        "outputId": "8260e8f5-cf6b-4fc8-f363-5fd80c086e1e"
      },
      "source": [
        "# Mount Google Drive\n",
        "from google.colab import drive\n",
        "from os.path import join\n",
        "\n",
        "ROOT = '/content/drive/'      # default for the drive\n",
        "PROJ = 'My Drive/nlp/'       # path to your project on Drive\n",
        "\n",
        "drive.mount(ROOT)           # we mount the drive at /content/drive"
      ],
      "execution_count": 1,
      "outputs": [
        {
          "output_type": "stream",
          "text": [
            "Go to this URL in a browser: https://accounts.google.com/o/oauth2/auth?client_id=947318989803-6bn6qk8qdgf4n4g3pfee6491hc0brc4i.apps.googleusercontent.com&redirect_uri=urn%3aietf%3awg%3aoauth%3a2.0%3aoob&response_type=code&scope=email%20https%3a%2f%2fwww.googleapis.com%2fauth%2fdocs.test%20https%3a%2f%2fwww.googleapis.com%2fauth%2fdrive%20https%3a%2f%2fwww.googleapis.com%2fauth%2fdrive.photos.readonly%20https%3a%2f%2fwww.googleapis.com%2fauth%2fpeopleapi.readonly\n",
            "\n",
            "Enter your authorization code:\n",
            "··········\n",
            "Mounted at /content/drive/\n"
          ],
          "name": "stdout"
        }
      ]
    },
    {
      "cell_type": "code",
      "metadata": {
        "id": "x3m0_rzW4plb",
        "colab_type": "code",
        "colab": {
          "base_uri": "https://localhost:8080/",
          "height": 34
        },
        "outputId": "c7ebe04e-6127-45dc-f81a-35ba8831fa4e"
      },
      "source": [
        "cd drive/My\\ Drive/nlp"
      ],
      "execution_count": 9,
      "outputs": [
        {
          "output_type": "stream",
          "text": [
            "/content/drive/My Drive/nlp\n"
          ],
          "name": "stdout"
        }
      ]
    },
    {
      "cell_type": "code",
      "metadata": {
        "id": "PuShLAaJIxj8",
        "colab_type": "code",
        "outputId": "f38c0f9d-068e-4610-9bc9-babc8143287f",
        "colab": {
          "base_uri": "https://localhost:8080/",
          "height": 153
        }
      },
      "source": [
        "GIT_USERNAME = \"umerhasan17\" # replace with yours\n",
        "GIT_TOKEN = \"511bf8da7fc579839686343784fa4875370484d3\" # definitely replace with yours\n",
        "GIT_REPOSITORY = \"NLPzoo\"      # ...nah\n",
        "\n",
        "PROJECT_PATH = join(ROOT, PROJ)\n",
        "# !mkdir \"{PROJECT_PATH}\"I    # in case we haven't created it already   \n",
        "\n",
        "#path: https://511bf8da7fc579839686343784fa4875370484d3@github.com/umerhasan17/NLPzoo.git\n",
        "# GIT_PATH = \"https://{GIT_TOKEN}@github.com/{GIT_USERNAME}/{GIT_REPOSITORY}.git\"\n",
        "# !git clone \"{GIT_PATH}\"\n",
        "# !git clone \"https://511bf8da7fc579839686343784fa4875370484d3@github.com/umerhasan17/NLPzoo.git\"\n",
        "# !mkdir ./temp\n",
        "# !git clone \"{GIT_PATH}\"\n",
        "# !mv ./temp/* \"{PROJECT_PATH}\"\n",
        "# !rm -rf ./temp\n",
        "# !rsync -aP --exclude=data/ \"{PROJECT_PATH}\"/*  ./\n",
        "!git clone \"https://511bf8da7fc579839686343784fa4875370484d3@github.com/umerhasan17/NLPzoo.git\"\n",
        "!ls"
      ],
      "execution_count": 11,
      "outputs": [
        {
          "output_type": "stream",
          "text": [
            "Cloning into 'NLPzoo'...\n",
            "remote: Enumerating objects: 273, done.\u001b[K\n",
            "remote: Counting objects: 100% (273/273), done.\u001b[K\n",
            "remote: Compressing objects: 100% (192/192), done.\u001b[K\n",
            "remote: Total 273 (delta 115), reused 182 (delta 42), pack-reused 0\u001b[K\n",
            "Receiving objects: 100% (273/273), 3.98 MiB | 7.43 MiB/s, done.\n",
            "Resolving deltas: 100% (115/115), done.\n",
            "NLPzoo\n"
          ],
          "name": "stdout"
        }
      ]
    },
    {
      "cell_type": "code",
      "metadata": {
        "id": "2snZNRJNKMX4",
        "colab_type": "code",
        "colab": {}
      },
      "source": [
        ""
      ],
      "execution_count": 0,
      "outputs": []
    }
  ]
}