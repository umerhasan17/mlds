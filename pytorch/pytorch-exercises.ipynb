{
 "cells": [
  {
   "cell_type": "markdown",
   "metadata": {},
   "source": [
    "# Points to note\n",
    "\n",
    "* torch.rand and torch.randn are different functions"
   ]
  },
  {
   "cell_type": "code",
   "execution_count": 1,
   "metadata": {},
   "outputs": [],
   "source": [
    "import torch"
   ]
  },
  {
   "cell_type": "code",
   "execution_count": 25,
   "metadata": {},
   "outputs": [],
   "source": [
    "min_value = 3\n",
    "max_value = 7\n",
    "rand_tensor = min_value + torch.rand(5, 3) * (max_value - min_value)"
   ]
  },
  {
   "cell_type": "code",
   "execution_count": 26,
   "metadata": {},
   "outputs": [
    {
     "name": "stdout",
     "output_type": "stream",
     "text": [
      "tensor([[5.9586, 4.6658, 6.1651],\n",
      "        [4.6778, 4.0342, 6.1776],\n",
      "        [4.2038, 4.6536, 5.1647],\n",
      "        [4.0926, 3.5782, 4.9927],\n",
      "        [5.9286, 5.9042, 4.8658]])\n"
     ]
    }
   ],
   "source": [
    "print(rand_tensor)"
   ]
  },
  {
   "cell_type": "code",
   "execution_count": 34,
   "metadata": {},
   "outputs": [
    {
     "name": "stdout",
     "output_type": "stream",
     "text": [
      "tensor([[0.6186, 0.3131, 0.7170],\n",
      "        [0.0759, 0.2206, 0.9423],\n",
      "        [0.2249, 0.7251, 0.0403]])\n",
      "tensor([[0.6186, 0.3131, 0.7170],\n",
      "        [0.0759, 0.2206, 0.9423],\n",
      "        [0.2249, 0.7251, 0.0403]])\n",
      "tensor([[0.6186, 0.3131, 0.7170],\n",
      "        [0.0759, 0.2206, 0.9423],\n",
      "        [0.2249, 0.7251, 0.0403]])\n"
     ]
    }
   ],
   "source": [
    "a = torch.rand(3, 3)\n",
    "print(a)\n",
    "# add dimension\n",
    "a.unsqueeze(0)\n",
    "print(a)\n",
    "# remove dimension\n",
    "a.squeeze(0)\n",
    "print(a)"
   ]
  },
  {
   "cell_type": "code",
   "execution_count": 37,
   "metadata": {},
   "outputs": [
    {
     "data": {
      "text/plain": [
       "tensor([[ 0.7381,  0.1509, -0.2820],\n",
       "        [ 0.2973, -0.2072, -0.5614],\n",
       "        [-0.2526,  0.4280,  1.6920]])"
      ]
     },
     "execution_count": 37,
     "metadata": {},
     "output_type": "execute_result"
    }
   ],
   "source": [
    "# create a normal distribution\n",
    "torch.rand(3,3).normal_()"
   ]
  },
  {
   "cell_type": "code",
   "execution_count": 39,
   "metadata": {},
   "outputs": [
    {
     "data": {
      "text/plain": [
       "tensor([[0, 0],\n",
       "        [0, 1],\n",
       "        [0, 2],\n",
       "        [1, 0],\n",
       "        [1, 1],\n",
       "        [1, 2],\n",
       "        [2, 0],\n",
       "        [2, 1],\n",
       "        [2, 2]])"
      ]
     },
     "execution_count": 39,
     "metadata": {},
     "output_type": "execute_result"
    }
   ],
   "source": [
    "# retrieve indices of non-zero elements\n",
    "torch.nonzero(a)"
   ]
  },
  {
   "cell_type": "code",
   "execution_count": null,
   "metadata": {},
   "outputs": [],
   "source": []
  }
 ],
 "metadata": {
  "kernelspec": {
   "display_name": "Python 3",
   "language": "python",
   "name": "python3"
  },
  "language_info": {
   "codemirror_mode": {
    "name": "ipython",
    "version": 3
   },
   "file_extension": ".py",
   "mimetype": "text/x-python",
   "name": "python",
   "nbconvert_exporter": "python",
   "pygments_lexer": "ipython3",
   "version": "3.8.0"
  }
 },
 "nbformat": 4,
 "nbformat_minor": 4
}
