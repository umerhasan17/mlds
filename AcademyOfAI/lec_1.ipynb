{
 "cells": [
  {
   "cell_type": "markdown",
   "metadata": {
    "colab_type": "text",
    "id": "oXu2898lys_c"
   },
   "source": [
    "# Introduction to Python\n",
    "\n",
    "In this short crash course we will learn to code in Python programming language, specifically we will use Python 3, while searching on the internet you may sometime stumble upon Python 2.7. There are a few syntactic differences you will learn along the way.\n",
    "\n",
    "### Advantages\n",
    "\n",
    "* General-purpose language, used in web developement as well as high performance computing\n",
    "* It is an \"interpreted\" programming language, i.e. there is no need to compile your code\n",
    "* Extensive choice of libraries to deal with most complicated problems, especially for data science and machine learning\n",
    "* Has extremely steep learning curve, is easy to read and write\n",
    "* Very well documented, and widely used ([docs.python.org](http://docs.python.org) or check Stack Overflow)\n",
    "* Dynamically-typed - it is not necessary to manually define the types of variables (in most cases)\n",
    "\n",
    "### Disadvantages\n",
    "\n",
    "* Dynamically-typed - it is not necessary to manually define the types of variables - this can cause confusion. It is good practice to leave comments with description of the input for every function\n",
    "* Is slower than other compiled languages, this can be rectified by using libraries that are pre-combiled in other programming languages (*More in the workshop on scientific computing in python)*\n",
    "\n",
    "\n",
    "### Plan for today\n",
    "1. Basics: variables, conditional statements, for/while cycles, functions \n",
    "2. Pythonic basics: list comprehension, lambda functions\n",
    "3. Problem solving\n",
    "\n",
    "### How to learn Python?\n",
    "\n",
    "* It is a language, the only way to learn it is to speak it. *Don't be afraid, make mistakes, and ask questions.*\n",
    "* *Practice makes perfect*. Initially you will be forgetting the commands, the more you practice the sooner you will remember the syntax.\n",
    "* If you don't understand something, first compose the question properly, think about it, and if you can't think of a solution ask someone!\n",
    "* Before you execute any cell, stop and try to predict what it will do! Ideally write your prediction on a piece of paper!\n",
    "* Experiment! Change the code in the cells, try various test cases to understand how the code behaves."
   ]
  },
  {
   "cell_type": "markdown",
   "metadata": {
    "colab_type": "text",
    "id": "K5SPq-zSys_j"
   },
   "source": [
    "## Variables"
   ]
  },
  {
   "cell_type": "markdown",
   "metadata": {
    "colab_type": "text",
    "id": "R0uzJ02Mys_o"
   },
   "source": [
    "Variables are \"black boxes\" used to store values. Each variable is of a specific type, the types define the operations that can be applied to the variables and their response to them. The most common variables are:\n",
    " - *Strings* - A \"string\" of characters\n",
    " - *Integers* - Whole numbers\n",
    " - *Floating-point values* - Decimal numbers\n",
    " - *Boolean* - Binary logic (True / False)\n",
    " "
   ]
  },
  {
   "cell_type": "code",
   "execution_count": 1,
   "metadata": {
    "colab": {},
    "colab_type": "code",
    "id": "5hjyJF7qys_s"
   },
   "outputs": [
    {
     "data": {
      "text/plain": [
       "'This is also a comment, it is a string, and can span multiple lines.\\nComments aid understanding of the code, and make it legible.'"
      ]
     },
     "execution_count": 1,
     "metadata": {},
     "output_type": "execute_result"
    }
   ],
   "source": [
    "# This is a comment, text following a hashtag is not interpreted as code.\n",
    "\"\"\"This is also a comment, it is a string, and can span multiple lines.\n",
    "Comments aid understanding of the code, and make it legible.\"\"\""
   ]
  },
  {
   "cell_type": "code",
   "execution_count": 2,
   "metadata": {
    "colab": {},
    "colab_type": "code",
    "id": "69iBV3nPys_3"
   },
   "outputs": [
    {
     "data": {
      "text/plain": [
       "int"
      ]
     },
     "execution_count": 2,
     "metadata": {},
     "output_type": "execute_result"
    }
   ],
   "source": [
    "# To execute the code in a cell, press ctrl-shift\n",
    "a = 5  # the variable a is assigned the value 5\n",
    "type(a)  # the type() function displays the variable type of the argument in the brackets"
   ]
  },
  {
   "cell_type": "markdown",
   "metadata": {
    "colab_type": "text",
    "id": "BjAilqYAys__"
   },
   "source": [
    "Now run the following code without any comments and see the difference:"
   ]
  },
  {
   "cell_type": "code",
   "execution_count": 3,
   "metadata": {
    "colab": {},
    "colab_type": "code",
    "id": "DIbpyry6ytAD"
   },
   "outputs": [
    {
     "data": {
      "text/plain": [
       "int"
      ]
     },
     "execution_count": 3,
     "metadata": {},
     "output_type": "execute_result"
    }
   ],
   "source": [
    "a = 5  \n",
    "type(a)"
   ]
  },
  {
   "cell_type": "code",
   "execution_count": 4,
   "metadata": {
    "colab": {},
    "colab_type": "code",
    "id": "n9V5K04UytAJ"
   },
   "outputs": [
    {
     "data": {
      "text/plain": [
       "float"
      ]
     },
     "execution_count": 4,
     "metadata": {},
     "output_type": "execute_result"
    }
   ],
   "source": [
    "# python automatically guesses the variable type of your input, can you google what this variable type stands for?\n",
    "b = 0.2\n",
    "type(b)"
   ]
  },
  {
   "cell_type": "markdown",
   "metadata": {
    "colab_type": "text",
    "id": "ERLdW1OwytAQ"
   },
   "source": [
    "In order to print out the value of a variable or a calculation, you can use the function print()"
   ]
  },
  {
   "cell_type": "code",
   "execution_count": 5,
   "metadata": {
    "colab": {},
    "colab_type": "code",
    "id": "nEzFvIjgytAS"
   },
   "outputs": [
    {
     "name": "stdout",
     "output_type": "stream",
     "text": [
      "5\n",
      "20\n"
     ]
    }
   ],
   "source": [
    "print(a) # don't forget the brackets ()!\n",
    "print(a+15)"
   ]
  },
  {
   "cell_type": "markdown",
   "metadata": {
    "colab_type": "text",
    "id": "I7EGrWPkytAW"
   },
   "source": [
    "Guess the results of the following operations, write them down before running the cell!"
   ]
  },
  {
   "cell_type": "code",
   "execution_count": 6,
   "metadata": {
    "colab": {},
    "colab_type": "code",
    "id": "71xmcVtLytAY"
   },
   "outputs": [
    {
     "name": "stdout",
     "output_type": "stream",
     "text": [
      "2.5\n",
      "2\n",
      "1\n"
     ]
    }
   ],
   "source": [
    "print(a/2)\n",
    "print(a//2) # // signifies whole number division\n",
    "print(a%2)  # \"modulo operator\" % is the remainder after division"
   ]
  },
  {
   "cell_type": "markdown",
   "metadata": {
    "colab_type": "text",
    "collapsed": true,
    "id": "x09KPyb1ytAd"
   },
   "source": [
    "Write a code to print the sum of the variable `a` and `b`:"
   ]
  },
  {
   "cell_type": "code",
   "execution_count": 15,
   "metadata": {
    "colab": {},
    "colab_type": "code",
    "id": "7Y48TaCTytAe"
   },
   "outputs": [
    {
     "name": "stdout",
     "output_type": "stream",
     "text": [
      "5.2\n"
     ]
    }
   ],
   "source": [
    "print(a + b)"
   ]
  },
  {
   "cell_type": "markdown",
   "metadata": {
    "colab_type": "text",
    "collapsed": true,
    "id": "Z93CuafdytAh"
   },
   "source": [
    "Python can also work as a very powerful calculator, what is 99 to the power of 99? (Hint: powers are denoted by ** in Python)"
   ]
  },
  {
   "cell_type": "code",
   "execution_count": 16,
   "metadata": {
    "colab": {},
    "colab_type": "code",
    "id": "gXyUWiEiytAi"
   },
   "outputs": [
    {
     "name": "stdout",
     "output_type": "stream",
     "text": [
      "369729637649726772657187905628805440595668764281741102430259972423552570455277523421410650010128232727940978889548326540119429996769494359451621570193644014418071060667659301384999779999159200499899\n"
     ]
    }
   ],
   "source": [
    "print (99 ** 99)"
   ]
  },
  {
   "cell_type": "markdown",
   "metadata": {
    "colab_type": "text",
    "id": "V2SNEu4KytAl"
   },
   "source": [
    "Create a new variable and print out its type:"
   ]
  },
  {
   "cell_type": "code",
   "execution_count": 17,
   "metadata": {
    "colab": {},
    "colab_type": "code",
    "id": "9lBq_8nfytAn"
   },
   "outputs": [
    {
     "data": {
      "text/plain": [
       "float"
      ]
     },
     "execution_count": 17,
     "metadata": {},
     "output_type": "execute_result"
    }
   ],
   "source": [
    "a = 5.0\n",
    "type(a)"
   ]
  },
  {
   "cell_type": "markdown",
   "metadata": {
    "colab_type": "text",
    "id": "gaWf2s_MytAq"
   },
   "source": [
    "It is possible to add different types in Python, the resulting type is chosen automomatically. (broadcasting)"
   ]
  },
  {
   "cell_type": "code",
   "execution_count": 18,
   "metadata": {
    "colab": {},
    "colab_type": "code",
    "id": "ow-ItUo6ytAr",
    "scrolled": true
   },
   "outputs": [
    {
     "name": "stdout",
     "output_type": "stream",
     "text": [
      "8.5\n",
      "5.5\n"
     ]
    },
    {
     "ename": "TypeError",
     "evalue": "must be str, not int",
     "output_type": "error",
     "traceback": [
      "\u001b[1;31m---------------------------------------------------------------------------\u001b[0m",
      "\u001b[1;31mTypeError\u001b[0m                                 Traceback (most recent call last)",
      "\u001b[1;32m<ipython-input-18-4e4c5c2e914f>\u001b[0m in \u001b[0;36m<module>\u001b[1;34m\u001b[0m\n\u001b[0;32m      6\u001b[0m \u001b[0mprint\u001b[0m\u001b[1;33m(\u001b[0m\u001b[0mtype2\u001b[0m \u001b[1;33m+\u001b[0m \u001b[0mtype3\u001b[0m\u001b[1;33m)\u001b[0m\u001b[1;33m\u001b[0m\u001b[1;33m\u001b[0m\u001b[0m\n\u001b[0;32m      7\u001b[0m \u001b[0mprint\u001b[0m\u001b[1;33m(\u001b[0m\u001b[0mtype3\u001b[0m \u001b[1;33m+\u001b[0m \u001b[0mtype4\u001b[0m\u001b[1;33m)\u001b[0m\u001b[1;33m\u001b[0m\u001b[1;33m\u001b[0m\u001b[0m\n\u001b[1;32m----> 8\u001b[1;33m \u001b[0mprint\u001b[0m\u001b[1;33m(\u001b[0m\u001b[0mtype1\u001b[0m \u001b[1;33m+\u001b[0m \u001b[0mtype2\u001b[0m\u001b[1;33m)\u001b[0m\u001b[1;33m\u001b[0m\u001b[1;33m\u001b[0m\u001b[0m\n\u001b[0m",
      "\u001b[1;31mTypeError\u001b[0m: must be str, not int"
     ]
    }
   ],
   "source": [
    "type1 = 'str'   # string\n",
    "type2 = 4       # int\n",
    "type3 = 4.5     # float\n",
    "type4 = True    # bool (logic value True / False)\n",
    "\n",
    "print(type2 + type3)\n",
    "print(type3 + type4)\n",
    "print(type1 + type2)"
   ]
  },
  {
   "cell_type": "markdown",
   "metadata": {
    "colab_type": "text",
    "collapsed": true,
    "id": "J1Kw70gpytAu"
   },
   "source": [
    "**Some types cannot be added together as you can see above! Error messages are a useful feature that allow you to find bugs in your code. Also notice that when adding a float and an int, the result is chosen to be a float.**"
   ]
  },
  {
   "cell_type": "markdown",
   "metadata": {
    "colab_type": "text",
    "id": "r_8UBDGdytAv"
   },
   "source": [
    "## Strings"
   ]
  },
  {
   "cell_type": "markdown",
   "metadata": {
    "colab_type": "text",
    "id": "AMBfZs0tytAx"
   },
   "source": [
    "String is a data type used to represent text in Python:"
   ]
  },
  {
   "cell_type": "code",
   "execution_count": null,
   "metadata": {
    "colab": {},
    "colab_type": "code",
    "id": "ayjgapmEytAx"
   },
   "outputs": [],
   "source": [
    "c = \"abc\"\n",
    "type(c)"
   ]
  },
  {
   "cell_type": "markdown",
   "metadata": {
    "colab_type": "text",
    "id": "AmaDu10EytA2"
   },
   "source": [
    "There is an arithmetic associated to the string data type, see how a string behaves under the following operands:"
   ]
  },
  {
   "cell_type": "code",
   "execution_count": 19,
   "metadata": {
    "colab": {},
    "colab_type": "code",
    "id": "e3MAURfOytA2"
   },
   "outputs": [
    {
     "name": "stdout",
     "output_type": "stream",
     "text": [
      "Hello World!\n",
      "Hello Hello World!\n"
     ]
    }
   ],
   "source": [
    "hello = \"Hello\"\n",
    "space = \" \"\n",
    "world = \"World!\"\n",
    "print(hello + space + world)\n",
    "print((hello + space)*2 + world)\n"
   ]
  },
  {
   "cell_type": "markdown",
   "metadata": {
    "colab_type": "text",
    "id": "M-QB2q5IytA6"
   },
   "source": [
    "Notice that the sign \"+\" concatenates strings, but adds numbers when applied to `int`s or `float`s. An operator with different operations for different types is called an \"overloaded operator\". <br><br>\n",
    "It is possible to manually change the data type of a variable, for example strings to integers or floating-point numbers."
   ]
  },
  {
   "cell_type": "code",
   "execution_count": 20,
   "metadata": {
    "colab": {},
    "colab_type": "code",
    "id": "gseYgE4uytA7"
   },
   "outputs": [
    {
     "name": "stdout",
     "output_type": "stream",
     "text": [
      "123\n",
      "123.0\n"
     ]
    }
   ],
   "source": [
    "s = \"123\"\n",
    "si = int(s) # string s converted to an integer\n",
    "print(si)\n",
    "sf = float(s) # string s converted to a floating point number\n",
    "print(sf)"
   ]
  },
  {
   "cell_type": "markdown",
   "metadata": {
    "colab_type": "text",
    "id": "c25_KoGNytA-"
   },
   "source": [
    "... or vice-versa:"
   ]
  },
  {
   "cell_type": "code",
   "execution_count": 21,
   "metadata": {
    "colab": {},
    "colab_type": "code",
    "id": "NSwvC4X2ytA_"
   },
   "outputs": [
    {
     "name": "stdout",
     "output_type": "stream",
     "text": [
      "123_s\n"
     ]
    }
   ],
   "source": [
    "d = 123\n",
    "ds = str(d)\n",
    "print(ds + \"_\" + \"s\")"
   ]
  },
  {
   "cell_type": "markdown",
   "metadata": {
    "colab_type": "text",
    "id": "vmgTV-wfytBE"
   },
   "source": [
    "Create a new string variable \"2018\", convert it to an integer, and add the result to the float number number = 5.7"
   ]
  },
  {
   "cell_type": "code",
   "execution_count": 22,
   "metadata": {
    "colab": {},
    "colab_type": "code",
    "id": "OXg5uV0SytBF"
   },
   "outputs": [
    {
     "name": "stdout",
     "output_type": "stream",
     "text": [
      "2023.7\n"
     ]
    }
   ],
   "source": [
    "# CODE HERE\n",
    "s = \"2018\"\n",
    "n = int(s)\n",
    "print (n + 5.7)"
   ]
  },
  {
   "cell_type": "markdown",
   "metadata": {
    "colab_type": "text",
    "id": "P5ffVwZ4ytBH"
   },
   "source": [
    "Finally, strings can be split into lists!"
   ]
  },
  {
   "cell_type": "code",
   "execution_count": 23,
   "metadata": {
    "colab": {},
    "colab_type": "code",
    "id": "qdbkPdTIytBJ"
   },
   "outputs": [
    {
     "name": "stdout",
     "output_type": "stream",
     "text": [
      "3\n"
     ]
    },
    {
     "data": {
      "text/plain": [
       "['1', '2', '3']"
      ]
     },
     "execution_count": 23,
     "metadata": {},
     "output_type": "execute_result"
    }
   ],
   "source": [
    "s = \"123\"\n",
    "print(len(s))   # How long is this string?\n",
    "list(s)"
   ]
  },
  {
   "cell_type": "markdown",
   "metadata": {
    "colab_type": "text",
    "id": "702b-7R9ytBM"
   },
   "source": [
    "# Lists\n",
    "List is a mutable sequence of elements, i.e. once created, the separate elements can be changed. Lists can be created in the following way `a = [1,2,3]`\n"
   ]
  },
  {
   "cell_type": "code",
   "execution_count": 24,
   "metadata": {
    "colab": {},
    "colab_type": "code",
    "id": "Ep_znahsytBM"
   },
   "outputs": [
    {
     "name": "stdout",
     "output_type": "stream",
     "text": [
      "Printing list a:\n",
      "[1, 2, 3]\n",
      "Printing list c:\n",
      "[1, 2, 3, 2, 5]\n"
     ]
    }
   ],
   "source": [
    "a = [1, 2, 3]\n",
    "print(\"Printing list a:\")\n",
    "print(a) \n",
    "b = [2, 5]\n",
    "c = a + b        # Lists can be added together, this appends list b to list a!\n",
    "print(\"Printing list c:\")\n",
    "print(c)"
   ]
  },
  {
   "cell_type": "markdown",
   "metadata": {
    "colab_type": "text",
    "id": "gAikpIxhytBQ"
   },
   "source": [
    "Try if lists can be subtracted or multiplied!"
   ]
  },
  {
   "cell_type": "markdown",
   "metadata": {
    "colab_type": "text",
    "id": "6N3jtlHQytBU"
   },
   "source": [
    "Elements in a list can be accessed separately, each element has an associated index starting from 0"
   ]
  },
  {
   "cell_type": "code",
   "execution_count": 27,
   "metadata": {
    "colab": {},
    "colab_type": "code",
    "id": "S3wfzy1oytBV"
   },
   "outputs": [
    {
     "name": "stdout",
     "output_type": "stream",
     "text": [
      "1\n",
      "3\n",
      "3\n",
      "[5, 2, 3]\n"
     ]
    }
   ],
   "source": [
    "print(a[0])   # first element is numbered by 0, not 1!\n",
    "print(a[2])   # third element of the list\n",
    "print(a[-1])  # last element of the list\n",
    "a[0] = 5\n",
    "print(a)      # we have modified the first element"
   ]
  },
  {
   "cell_type": "markdown",
   "metadata": {
    "colab_type": "text",
    "id": "imBwfA-8ytBY"
   },
   "source": [
    "Write a code to access the 10th element of the list `a`:"
   ]
  },
  {
   "cell_type": "code",
   "execution_count": 30,
   "metadata": {
    "colab": {},
    "colab_type": "code",
    "id": "fn-C6fDtytBZ"
   },
   "outputs": [
    {
     "ename": "IndexError",
     "evalue": "list index out of range",
     "output_type": "error",
     "traceback": [
      "\u001b[1;31m---------------------------------------------------------------------------\u001b[0m",
      "\u001b[1;31mIndexError\u001b[0m                                Traceback (most recent call last)",
      "\u001b[1;32m<ipython-input-30-af838718652e>\u001b[0m in \u001b[0;36m<module>\u001b[1;34m\u001b[0m\n\u001b[1;32m----> 1\u001b[1;33m \u001b[0mprint\u001b[0m\u001b[1;33m(\u001b[0m\u001b[0ma\u001b[0m\u001b[1;33m[\u001b[0m\u001b[1;36m8\u001b[0m\u001b[1;33m]\u001b[0m\u001b[1;33m)\u001b[0m\u001b[1;33m\u001b[0m\u001b[1;33m\u001b[0m\u001b[0m\n\u001b[0m",
      "\u001b[1;31mIndexError\u001b[0m: list index out of range"
     ]
    }
   ],
   "source": []
  },
  {
   "cell_type": "markdown",
   "metadata": {
    "colab_type": "text",
    "collapsed": true,
    "id": "PswJ3ndxytBc"
   },
   "source": [
    "Can you use your python knowledge of lists and strings to find the 10th character in the sentence below?\n",
    "\n",
    "`s = \"This is a string with an exciting 10th character!\"`"
   ]
  },
  {
   "cell_type": "code",
   "execution_count": 41,
   "metadata": {
    "colab": {},
    "colab_type": "code",
    "id": "wXGfbsNZytBe"
   },
   "outputs": [
    {
     "name": "stdout",
     "output_type": "stream",
     "text": [
      "r\n"
     ]
    }
   ],
   "source": [
    "s = \"This is a string with an exciting 10th character!\"\n",
    "print (s[12])"
   ]
  },
  {
   "cell_type": "markdown",
   "metadata": {
    "colab_type": "text",
    "id": "WzYdiIUcytBi"
   },
   "source": [
    "Below you can see some handy functions that can be perfomed on a list:"
   ]
  },
  {
   "cell_type": "code",
   "execution_count": null,
   "metadata": {
    "colab": {},
    "colab_type": "code",
    "id": "qXTGj0IsytBj"
   },
   "outputs": [],
   "source": [
    "# length of a list\n",
    "print(len(a))\n",
    "# sum of all list elements\n",
    "sum(a)\n",
    "print(sum(a))\n",
    "# adding an element to the end of the list\n",
    "a.append(10)\n",
    "print(a)"
   ]
  },
  {
   "cell_type": "markdown",
   "metadata": {
    "colab_type": "text",
    "id": "Fgq54YXlytBl"
   },
   "source": [
    "Especially useful is the sort() function:"
   ]
  },
  {
   "cell_type": "code",
   "execution_count": null,
   "metadata": {
    "colab": {},
    "colab_type": "code",
    "id": "ucV8S_hdytBn",
    "scrolled": true
   },
   "outputs": [],
   "source": [
    "v = [5, 3, 8, 1]\n",
    "print(\"the list v is :\")\n",
    "print(v)\n",
    "print(\"the list v after sorting is: \")\n",
    "v.sort()\n",
    "print(v)\n",
    "\n",
    "# Try to print out the result of the function reverse() without converting to list. What type is it?\n",
    "print(\"printing the reversed sorted list v:\")\n",
    "print(list(reversed(v)))   \n"
   ]
  },
  {
   "cell_type": "markdown",
   "metadata": {
    "colab_type": "text",
    "id": "IdRf-zTOytBp"
   },
   "source": [
    "The elements in a list do not need to be all of the same type."
   ]
  },
  {
   "cell_type": "code",
   "execution_count": null,
   "metadata": {
    "colab": {},
    "colab_type": "code",
    "id": "VB5FOZsPytBp"
   },
   "outputs": [],
   "source": [
    "good_list = ['Data Science', 485, True, 0.001]\n",
    "print(good_list)"
   ]
  },
  {
   "cell_type": "markdown",
   "metadata": {
    "colab_type": "text",
    "id": "3rF0S3N8ytBr"
   },
   "source": [
    "Lists can also contain more lists, exciting! Let's append a list at the end of a list:"
   ]
  },
  {
   "cell_type": "code",
   "execution_count": null,
   "metadata": {
    "colab": {},
    "colab_type": "code",
    "id": "DSs_j8lCytBs"
   },
   "outputs": [],
   "source": [
    "good_list.append(['another', 'list'])\n",
    "print(good_list)\n",
    "print(good_list[-1][0]) # picks the first element of the last element of good_list"
   ]
  },
  {
   "cell_type": "markdown",
   "metadata": {
    "colab_type": "text",
    "id": "i1RZU2O4ytBt"
   },
   "source": [
    "How many elements does the list `[[0,1,2,3,4,5,6]]` have? Use the `len()` function to see if you were right."
   ]
  },
  {
   "cell_type": "code",
   "execution_count": 42,
   "metadata": {
    "colab": {},
    "colab_type": "code",
    "id": "N5g5CLGhytBv"
   },
   "outputs": [
    {
     "data": {
      "text/plain": [
       "1"
      ]
     },
     "execution_count": 42,
     "metadata": {},
     "output_type": "execute_result"
    }
   ],
   "source": [
    "len([[0,1,2,3,4,5,6]])"
   ]
  },
  {
   "cell_type": "markdown",
   "metadata": {
    "colab_type": "text",
    "id": "mCRtYeahytBx"
   },
   "source": [
    "`range()` is a particularly useful iterator that can be converted into a list:"
   ]
  },
  {
   "cell_type": "code",
   "execution_count": 43,
   "metadata": {
    "colab": {},
    "colab_type": "code",
    "id": "ZHLB9hsOytBy"
   },
   "outputs": [
    {
     "name": "stdout",
     "output_type": "stream",
     "text": [
      "range(0, 10)\n"
     ]
    }
   ],
   "source": [
    "r = range(10)\n",
    "print(r)"
   ]
  },
  {
   "cell_type": "markdown",
   "metadata": {
    "colab_type": "text",
    "id": "6Ru7tQ0kytB0"
   },
   "source": [
    "In the future you will see that the result of the `range()` function behaves just like a list would when combined with certain functions or in loops. If you want the result to really be a list, make sure to convert it!"
   ]
  },
  {
   "cell_type": "code",
   "execution_count": 44,
   "metadata": {
    "colab": {},
    "colab_type": "code",
    "id": "KjfgDKfCytB2"
   },
   "outputs": [
    {
     "name": "stdout",
     "output_type": "stream",
     "text": [
      "[0, 1, 2, 3, 4, 5, 6, 7, 8, 9]\n",
      "10 45\n"
     ]
    }
   ],
   "source": [
    "r = list(r)    \n",
    "print(r)\n",
    "print(len(r), sum(r))"
   ]
  },
  {
   "cell_type": "markdown",
   "metadata": {
    "colab_type": "text",
    "id": "xpQtn2_oytB3"
   },
   "source": [
    "The `range()` function can have a specified start, end and step size. The syntax is: range(first element, last element, step size)\n",
    "\n",
    "If step size is not specified, the default value is one."
   ]
  },
  {
   "cell_type": "code",
   "execution_count": 45,
   "metadata": {
    "colab": {},
    "colab_type": "code",
    "id": "UF7VlbhNytB5"
   },
   "outputs": [
    {
     "name": "stdout",
     "output_type": "stream",
     "text": [
      "[1, 3, 5, 7, 9]\n",
      "[]\n",
      "[10, 9, 8, 7, 6, 5, 4, 3, 2]\n"
     ]
    }
   ],
   "source": [
    "print(list(range(1,10,2)))\n",
    "print(list(range(10,1)))\n",
    "print(list(range(10,1,-1)))"
   ]
  },
  {
   "cell_type": "markdown",
   "metadata": {
    "colab_type": "text",
    "id": "ZpkvJKyAytB9"
   },
   "source": [
    "Create a list of all the multiples of three between 1000 and 2500:"
   ]
  },
  {
   "cell_type": "code",
   "execution_count": 46,
   "metadata": {
    "colab": {},
    "colab_type": "code",
    "id": "wYQsHh7LytB-"
   },
   "outputs": [
    {
     "name": "stdout",
     "output_type": "stream",
     "text": [
      "[1002, 1005, 1008, 1011, 1014, 1017, 1020, 1023, 1026, 1029, 1032, 1035, 1038, 1041, 1044, 1047, 1050, 1053, 1056, 1059, 1062, 1065, 1068, 1071, 1074, 1077, 1080, 1083, 1086, 1089, 1092, 1095, 1098, 1101, 1104, 1107, 1110, 1113, 1116, 1119, 1122, 1125, 1128, 1131, 1134, 1137, 1140, 1143, 1146, 1149, 1152, 1155, 1158, 1161, 1164, 1167, 1170, 1173, 1176, 1179, 1182, 1185, 1188, 1191, 1194, 1197, 1200, 1203, 1206, 1209, 1212, 1215, 1218, 1221, 1224, 1227, 1230, 1233, 1236, 1239, 1242, 1245, 1248, 1251, 1254, 1257, 1260, 1263, 1266, 1269, 1272, 1275, 1278, 1281, 1284, 1287, 1290, 1293, 1296, 1299, 1302, 1305, 1308, 1311, 1314, 1317, 1320, 1323, 1326, 1329, 1332, 1335, 1338, 1341, 1344, 1347, 1350, 1353, 1356, 1359, 1362, 1365, 1368, 1371, 1374, 1377, 1380, 1383, 1386, 1389, 1392, 1395, 1398, 1401, 1404, 1407, 1410, 1413, 1416, 1419, 1422, 1425, 1428, 1431, 1434, 1437, 1440, 1443, 1446, 1449, 1452, 1455, 1458, 1461, 1464, 1467, 1470, 1473, 1476, 1479, 1482, 1485, 1488, 1491, 1494, 1497, 1500, 1503, 1506, 1509, 1512, 1515, 1518, 1521, 1524, 1527, 1530, 1533, 1536, 1539, 1542, 1545, 1548, 1551, 1554, 1557, 1560, 1563, 1566, 1569, 1572, 1575, 1578, 1581, 1584, 1587, 1590, 1593, 1596, 1599, 1602, 1605, 1608, 1611, 1614, 1617, 1620, 1623, 1626, 1629, 1632, 1635, 1638, 1641, 1644, 1647, 1650, 1653, 1656, 1659, 1662, 1665, 1668, 1671, 1674, 1677, 1680, 1683, 1686, 1689, 1692, 1695, 1698, 1701, 1704, 1707, 1710, 1713, 1716, 1719, 1722, 1725, 1728, 1731, 1734, 1737, 1740, 1743, 1746, 1749, 1752, 1755, 1758, 1761, 1764, 1767, 1770, 1773, 1776, 1779, 1782, 1785, 1788, 1791, 1794, 1797, 1800, 1803, 1806, 1809, 1812, 1815, 1818, 1821, 1824, 1827, 1830, 1833, 1836, 1839, 1842, 1845, 1848, 1851, 1854, 1857, 1860, 1863, 1866, 1869, 1872, 1875, 1878, 1881, 1884, 1887, 1890, 1893, 1896, 1899, 1902, 1905, 1908, 1911, 1914, 1917, 1920, 1923, 1926, 1929, 1932, 1935, 1938, 1941, 1944, 1947, 1950, 1953, 1956, 1959, 1962, 1965, 1968, 1971, 1974, 1977, 1980, 1983, 1986, 1989, 1992, 1995, 1998, 2001, 2004, 2007, 2010, 2013, 2016, 2019, 2022, 2025, 2028, 2031, 2034, 2037, 2040, 2043, 2046, 2049, 2052, 2055, 2058, 2061, 2064, 2067, 2070, 2073, 2076, 2079, 2082, 2085, 2088, 2091, 2094, 2097, 2100, 2103, 2106, 2109, 2112, 2115, 2118, 2121, 2124, 2127, 2130, 2133, 2136, 2139, 2142, 2145, 2148, 2151, 2154, 2157, 2160, 2163, 2166, 2169, 2172, 2175, 2178, 2181, 2184, 2187, 2190, 2193, 2196, 2199, 2202, 2205, 2208, 2211, 2214, 2217, 2220, 2223, 2226, 2229, 2232, 2235, 2238, 2241, 2244, 2247, 2250, 2253, 2256, 2259, 2262, 2265, 2268, 2271, 2274, 2277, 2280, 2283, 2286, 2289, 2292, 2295, 2298, 2301, 2304, 2307, 2310, 2313, 2316, 2319, 2322, 2325, 2328, 2331, 2334, 2337, 2340, 2343, 2346, 2349, 2352, 2355, 2358, 2361, 2364, 2367, 2370, 2373, 2376, 2379, 2382, 2385, 2388, 2391, 2394, 2397, 2400, 2403, 2406, 2409, 2412, 2415, 2418, 2421, 2424, 2427, 2430, 2433, 2436, 2439, 2442, 2445, 2448, 2451, 2454, 2457, 2460, 2463, 2466, 2469, 2472, 2475, 2478, 2481, 2484, 2487, 2490, 2493, 2496, 2499]\n"
     ]
    }
   ],
   "source": [
    "print(list(range(1002,2500,3)))"
   ]
  },
  {
   "cell_type": "markdown",
   "metadata": {
    "colab_type": "text",
    "collapsed": true,
    "id": "QEtzHGOfytCA"
   },
   "source": [
    "## Accessing elements"
   ]
  },
  {
   "cell_type": "markdown",
   "metadata": {
    "colab_type": "text",
    "id": "nkOPjlwDytCB"
   },
   "source": [
    "You have already seen how to access a single element in a list:"
   ]
  },
  {
   "cell_type": "code",
   "execution_count": 47,
   "metadata": {
    "colab": {},
    "colab_type": "code",
    "id": "HKmAi3HgytCB"
   },
   "outputs": [
    {
     "name": "stdout",
     "output_type": "stream",
     "text": [
      "3\n",
      "1\n",
      "9\n"
     ]
    }
   ],
   "source": [
    "a = [3, 1, 4, 1, 5, 9, 2, 6, 5, 3, 5, 9]\n",
    "print(a[0])\n",
    "print(a[1])\n",
    "print(a[-1])"
   ]
  },
  {
   "cell_type": "markdown",
   "metadata": {
    "colab_type": "text",
    "id": "X4g7XvT4ytCG"
   },
   "source": [
    "In python, you can also access \"sublists\" of lists, the syntax is: list[ start : end : step ]"
   ]
  },
  {
   "cell_type": "code",
   "execution_count": 48,
   "metadata": {
    "colab": {},
    "colab_type": "code",
    "id": "BzDu75JbytCG"
   },
   "outputs": [
    {
     "name": "stdout",
     "output_type": "stream",
     "text": [
      "[3, 1]\n",
      "[3, 1]\n",
      "[6, 5, 3, 5, 9]\n",
      "[5, 9]\n",
      "[3, 4, 5, 2, 5, 5]\n"
     ]
    }
   ],
   "source": [
    "print(a[0:2])   # first two elements\n",
    "print(a[:2])    # from the start to element two\n",
    "print(a[7:])    # from element seven to the end\n",
    "print(a[-2:])   \n",
    "print(a[::2])   # every second element from the start to the end"
   ]
  },
  {
   "cell_type": "markdown",
   "metadata": {
    "colab_type": "text",
    "id": "bk5wvWPxytCI"
   },
   "source": [
    "Create a list containing 11 elements, print out the following sublists:\n",
    "    - All elements between the 2nd and 5th element\n",
    "    - Every second element of the list\n",
    "    - Print out the whole list backwards\n",
    "    - Exchange the order of the 4th and 5th element and the 8th and 9th element."
   ]
  },
  {
   "cell_type": "code",
   "execution_count": 61,
   "metadata": {
    "colab": {},
    "colab_type": "code",
    "id": "Tf_6cDBrytCJ"
   },
   "outputs": [
    {
     "name": "stdout",
     "output_type": "stream",
     "text": [
      "[3, 5]\n",
      "[5, 5, 2, 5, 4, 3]\n",
      "[3, 1, 4, 1, 5, 9, 2, 6, 5, 3, 5, 9]\n"
     ]
    }
   ],
   "source": [
    "print(a[2:4])\n",
    "print(a[1::2])\n"
   ]
  },
  {
   "cell_type": "markdown",
   "metadata": {
    "colab_type": "text",
    "id": "5J3FjoDiytCK"
   },
   "source": [
    "## Logic"
   ]
  },
  {
   "cell_type": "markdown",
   "metadata": {
    "colab_type": "text",
    "id": "VczvzFbMytCL"
   },
   "source": [
    "In Python it is often necessary to write down conditions which result in a boolean value (either `False` or `True`). It is important to learn how to evaluate such conditions using basic logic. Let's look at some logic operations first:"
   ]
  },
  {
   "cell_type": "code",
   "execution_count": 62,
   "metadata": {
    "colab": {
     "base_uri": "https://localhost:8080/",
     "height": 151
    },
    "colab_type": "code",
    "executionInfo": {
     "elapsed": 1017,
     "status": "ok",
     "timestamp": 1539708858938,
     "user": {
      "displayName": "Edward Lim",
      "photoUrl": "",
      "userId": "05219823243799720278"
     },
     "user_tz": -60
    },
    "id": "oHfPNnCiytCM",
    "outputId": "db2c7fd7-505c-45a9-f762-07790a2645a5"
   },
   "outputs": [
    {
     "name": "stdout",
     "output_type": "stream",
     "text": [
      "True\n",
      "False\n",
      "True\n",
      "False\n",
      "True\n",
      "False\n",
      "True\n",
      "False\n"
     ]
    }
   ],
   "source": [
    "#or operator\n",
    "print(True or False)\n",
    "print(False or False)\n",
    "print(True or True)\n",
    "\n",
    "#and operator\n",
    "print(False and False)\n",
    "print(True and True)\n",
    "print(True and False)\n",
    "\n",
    "#not operator\n",
    "print(not False)\n",
    "print(not True)"
   ]
  },
  {
   "cell_type": "markdown",
   "metadata": {
    "colab_type": "text",
    "id": "aPqthjLzytCN"
   },
   "source": [
    "This can be summarised into this table\n",
    "![alt text](https://upload.wikimedia.org/wikipedia/commons/4/4a/Truth_table_for_AND%2C_OR%2C_and_NOT.png)"
   ]
  },
  {
   "cell_type": "markdown",
   "metadata": {
    "colab_type": "text",
    "id": "wi1Y6_IEytCO"
   },
   "source": [
    "These logical operations can be incorporated in terms of mathematical operations, let's define a few variables:"
   ]
  },
  {
   "cell_type": "code",
   "execution_count": 63,
   "metadata": {
    "colab": {},
    "colab_type": "code",
    "id": "GA3UmCy3ytCP"
   },
   "outputs": [],
   "source": [
    "a = 5 # an integer\n",
    "b = 6 # another integer\n",
    "c = [0,1,2,3,4,5] # a list"
   ]
  },
  {
   "cell_type": "markdown",
   "metadata": {
    "colab_type": "text",
    "id": "LYLE8QNPytCQ"
   },
   "source": [
    "Now we can test a few logic operations on these variables, look at the cell below and try to guess the output! Write your guesses down before running the cell!"
   ]
  },
  {
   "cell_type": "code",
   "execution_count": 64,
   "metadata": {
    "colab": {
     "base_uri": "https://localhost:8080/",
     "height": 118
    },
    "colab_type": "code",
    "executionInfo": {
     "elapsed": 768,
     "status": "ok",
     "timestamp": 1539708885134,
     "user": {
      "displayName": "Edward Lim",
      "photoUrl": "",
      "userId": "05219823243799720278"
     },
     "user_tz": -60
    },
    "id": "l4CWfIjuytCR",
    "outputId": "be7d1537-e286-4c9c-b09d-c25aa6e54f4a"
   },
   "outputs": [
    {
     "name": "stdout",
     "output_type": "stream",
     "text": [
      "False\n",
      "False\n",
      "True\n",
      "False\n",
      "True\n",
      "True\n"
     ]
    }
   ],
   "source": [
    "print(a == b) # a equal to b\n",
    "print(a+a == b) # 2a equal to b\n",
    "print(a != b) # a not equal to b\n",
    "print(a > b) # a greater than b\n",
    "print(a < b) # a lesser than b\n",
    "print(a <= b) # a lesser or equal to b"
   ]
  },
  {
   "cell_type": "markdown",
   "metadata": {
    "colab_type": "text",
    "id": "KWWdKfYVytCS"
   },
   "source": [
    "There are a few more intuitive operations that will come handy later on:"
   ]
  },
  {
   "cell_type": "code",
   "execution_count": 65,
   "metadata": {
    "colab": {},
    "colab_type": "code",
    "id": "BBIW3nYpytCT"
   },
   "outputs": [
    {
     "name": "stdout",
     "output_type": "stream",
     "text": [
      "True\n",
      "False\n",
      "False\n",
      "True\n",
      "False\n",
      "5\n",
      "False\n",
      "True\n",
      "True\n"
     ]
    }
   ],
   "source": [
    "print(a in c) #if a is in c?\n",
    "print(b in c) #if b is in c?\n",
    "print(a not in c) #if a is not in c?\n",
    "print(b not in c) #if b is not in c?\n",
    "print(a and b in c) #if both a and b is in c?\n",
    "print(a or b in c) #if either a or b is in c?\n",
    "\n",
    "print(2 is '2') #if integer 2 is string 2?\n",
    "print(\"2\" is '2') #double quote and single quotes are equivalent?\n",
    "print(2 is not '2') #if integer 2 is not string 2?"
   ]
  },
  {
   "cell_type": "markdown",
   "metadata": {
    "colab_type": "text",
    "id": "6q5R49RFytCW"
   },
   "source": [
    "Make sure you understand each of the above results, if you don't, ask one of the demonstrators."
   ]
  },
  {
   "cell_type": "markdown",
   "metadata": {
    "colab_type": "text",
    "collapsed": true,
    "id": "tWs3jw4tytCX"
   },
   "source": [
    "## Conditional statements\n",
    "Conditional statements are useful when we want to run some parts of the code only if some conditions are fulfilled. The syntax is:\n",
    "\n",
    "`if [Condition]:\n",
    "    [Code]`\n",
    "    \n",
    "If the `[Condition]` in the if statement has the value True, the `[Code]` will be executed, otherwise it will not."
   ]
  },
  {
   "cell_type": "code",
   "execution_count": 66,
   "metadata": {
    "colab": {},
    "colab_type": "code",
    "id": "oIAOLb61ytCY"
   },
   "outputs": [
    {
     "name": "stdout",
     "output_type": "stream",
     "text": [
      "The condition after \"if\" is true!\n"
     ]
    }
   ],
   "source": [
    "# Lets start with a few simple conditional statements\n",
    "if True:\n",
    "    print(\"The condition after \\\"if\\\" is true!\")"
   ]
  },
  {
   "cell_type": "code",
   "execution_count": 67,
   "metadata": {
    "colab": {},
    "colab_type": "code",
    "id": "G5eyzpX_ytCZ"
   },
   "outputs": [],
   "source": [
    "if False:\n",
    "    print(\"The condition after \\\"if\\\" is false :( !\")"
   ]
  },
  {
   "cell_type": "code",
   "execution_count": 68,
   "metadata": {
    "colab": {},
    "colab_type": "code",
    "id": "r9pFl2QCytCg",
    "scrolled": true
   },
   "outputs": [
    {
     "name": "stdout",
     "output_type": "stream",
     "text": [
      "a is not two, three or four!\n"
     ]
    }
   ],
   "source": [
    "# It is possible to include a number of conditions! If neither is true, then the code in else will run.\n",
    "a = 5\n",
    "if a == 2:\n",
    "    print(\"a is equal to two!\")\n",
    "elif a == 3 or a == 4:\n",
    "    print(\"a is equal to three or four?\")\n",
    "else:\n",
    "    print(\"a is not two, three or four!\")"
   ]
  },
  {
   "cell_type": "markdown",
   "metadata": {
    "colab_type": "text",
    "id": "4JPpCsPUytCj"
   },
   "source": [
    "**IMPORTANT** Indentation is essential for Python.\n",
    "\n",
    "Run the following block of code. How is it different?"
   ]
  },
  {
   "cell_type": "code",
   "execution_count": 69,
   "metadata": {
    "colab": {},
    "colab_type": "code",
    "id": "G60hGMSrytCj"
   },
   "outputs": [
    {
     "ename": "IndentationError",
     "evalue": "expected an indented block (<ipython-input-69-d48cf9bdd455>, line 3)",
     "output_type": "error",
     "traceback": [
      "\u001b[1;36m  File \u001b[1;32m\"<ipython-input-69-d48cf9bdd455>\"\u001b[1;36m, line \u001b[1;32m3\u001b[0m\n\u001b[1;33m    print(\"a is equal to two!\")\u001b[0m\n\u001b[1;37m        ^\u001b[0m\n\u001b[1;31mIndentationError\u001b[0m\u001b[1;31m:\u001b[0m expected an indented block\n"
     ]
    }
   ],
   "source": [
    "a = 5\n",
    "if a == 2:\n",
    "print(\"a is equal to two!\")\n",
    "elif a == 3 or a == 4:\n",
    "print(\"a is equal to three or four?\")\n",
    "else:\n",
    "print(\"a is not two, three or four!\")"
   ]
  },
  {
   "cell_type": "markdown",
   "metadata": {
    "colab_type": "text",
    "id": "fBirJrJIytCl"
   },
   "source": [
    "As you can see, indentations have to be placed after every ' : '"
   ]
  },
  {
   "cell_type": "markdown",
   "metadata": {
    "colab_type": "text",
    "id": "JXvtFCHSytCm"
   },
   "source": [
    "Write a code that takes a list with n elements on its input, and returns the string `\"Too long\"` if the n > 10, `\"Too short\"` if n < 10, and `\"Ideal\"` if n = 10."
   ]
  },
  {
   "cell_type": "code",
   "execution_count": null,
   "metadata": {
    "colab": {},
    "colab_type": "code",
    "id": "VNn7ALlnytCn"
   },
   "outputs": [],
   "source": [
    "#Code Here"
   ]
  },
  {
   "cell_type": "markdown",
   "metadata": {
    "colab_type": "text",
    "id": "P59pCAkFytCp"
   },
   "source": [
    "## For loop"
   ]
  },
  {
   "cell_type": "markdown",
   "metadata": {
    "colab_type": "text",
    "id": "OohG3uF2ytCr"
   },
   "source": [
    "Loops are one of the most important structures you will learn today, they allow cerain parts of the code to be executed multiple times. In Python the `for` loop is used extensively. The syntax is: `for <variable> in <list of elements>:`"
   ]
  },
  {
   "cell_type": "code",
   "execution_count": 11,
   "metadata": {
    "colab": {},
    "colab_type": "code",
    "id": "rts1VHI_ytCs"
   },
   "outputs": [
    {
     "name": "stdout",
     "output_type": "stream",
     "text": [
      "0\n",
      "1\n",
      "2\n",
      "3\n",
      "4\n",
      "5\n",
      "6\n",
      "7\n",
      "8\n",
      "9\n"
     ]
    }
   ],
   "source": [
    "# one by one each element of the list is assigned to the variable i, then the code inside the for loop is executed\n",
    "for i in range(10):\n",
    "    print(i)"
   ]
  },
  {
   "cell_type": "code",
   "execution_count": 12,
   "metadata": {
    "colab": {},
    "colab_type": "code",
    "id": "LlooAVMUytCu"
   },
   "outputs": [
    {
     "name": "stdout",
     "output_type": "stream",
     "text": [
      "4\n",
      "1\n",
      "5\n",
      "22\n",
      "5\n"
     ]
    }
   ],
   "source": [
    "# The loop iterates over the list, sequentially assigning values to the variable i. The code within the loop prints the value.\n",
    "for i in [4, 1, 5, 22, 5]:\n",
    "    print(i)"
   ]
  },
  {
   "cell_type": "code",
   "execution_count": 71,
   "metadata": {
    "colab": {},
    "colab_type": "code",
    "id": "Gu979QKnytCw"
   },
   "outputs": [
    {
     "name": "stdout",
     "output_type": "stream",
     "text": [
      "4 14\n",
      "1 11\n",
      "5 15\n",
      "22 32\n",
      "5 15\n"
     ]
    }
   ],
   "source": [
    "# The loop iterates over the list, sequentially assigning values to the variable i. The code within the loop prints the value.\n",
    "for i in [4, 1, 5, 22, 5]:\n",
    "    print (i, i+10)"
   ]
  },
  {
   "cell_type": "code",
   "execution_count": 72,
   "metadata": {
    "colab": {},
    "colab_type": "code",
    "id": "mI4vD_beytCy"
   },
   "outputs": [
    {
     "name": "stdout",
     "output_type": "stream",
     "text": [
      "a\n",
      "b\n",
      "c\n"
     ]
    }
   ],
   "source": [
    "for i in \"abc\":   #it is also possible to iterate over strings\n",
    "    print(i)"
   ]
  },
  {
   "cell_type": "code",
   "execution_count": 73,
   "metadata": {
    "colab": {},
    "colab_type": "code",
    "id": "9aGP8V3mytC1"
   },
   "outputs": [
    {
     "name": "stdout",
     "output_type": "stream",
     "text": [
      "1 2\n",
      "1 7\n",
      "1 12\n",
      "1 17\n",
      "2 2\n",
      "2 7\n",
      "2 12\n",
      "2 17\n",
      "3 2\n",
      "3 7\n",
      "3 12\n",
      "3 17\n"
     ]
    }
   ],
   "source": [
    "# sometimes it is useful to have two nested for loops, keep in mind the more nested loops the slower the code!\n",
    "for i in [1,2,3]:\n",
    "    for j in range(2,22,5):\n",
    "        print(i, j)"
   ]
  },
  {
   "cell_type": "markdown",
   "metadata": {
    "colab_type": "text",
    "id": "iow7wtPqytC3"
   },
   "source": [
    "Calculate the hundredth element of the Fibonacci sequence. $F_0=0$, $F_1 = 1$, $F_{i+2} = F_{i+1} + F_{i}$."
   ]
  },
  {
   "cell_type": "code",
   "execution_count": 76,
   "metadata": {
    "colab": {},
    "colab_type": "code",
    "id": "rVMEPYaLytC3"
   },
   "outputs": [],
   "source": [
    "# # CODE HERE\n",
    "# F_i = 0\n",
    "# F_i1 = 1\n",
    "# F_i2 = 1\n",
    "# for i in range(100):\n",
    "#     F_i2 = F_i1 + F_i\n",
    "#     F_i1 = \n",
    "#     F_i = \n"
   ]
  },
  {
   "cell_type": "markdown",
   "metadata": {
    "colab_type": "text",
    "id": "a6AyL9JvytC5"
   },
   "source": [
    "## List comprehension"
   ]
  },
  {
   "cell_type": "markdown",
   "metadata": {
    "colab_type": "text",
    "collapsed": true,
    "id": "r_C5IOUfytC5"
   },
   "source": [
    "If you encounter an expression such as this:\n",
    "\n",
    "`for item in list:\n",
    "    if conditional:\n",
    "        expression`\n",
    "        \n",
    "It can be briefly written in python as:\n",
    "\n",
    "`[ expression for item in list if conditional ]`"
   ]
  },
  {
   "cell_type": "code",
   "execution_count": 78,
   "metadata": {
    "colab": {},
    "colab_type": "code",
    "id": "Bi3tNWLuytC6"
   },
   "outputs": [
    {
     "name": "stdout",
     "output_type": "stream",
     "text": [
      "[0, 1, 4, 9, 16, 25, 36, 49, 64, 81]\n"
     ]
    }
   ],
   "source": [
    "# You can either use loops:\n",
    "squares = []\n",
    "\n",
    "for x in range(10):\n",
    "    squares.append(x**2)\n",
    " \n",
    "print(squares)"
   ]
  },
  {
   "cell_type": "code",
   "execution_count": 77,
   "metadata": {
    "colab": {},
    "colab_type": "code",
    "id": "fuv34SAmytC7"
   },
   "outputs": [
    {
     "name": "stdout",
     "output_type": "stream",
     "text": [
      "[0, 1, 4, 9, 16, 25, 36, 49, 64, 81]\n"
     ]
    }
   ],
   "source": [
    "# Or you can use list comprehensions to get the same result:\n",
    "squares = [x**2 for x in range(10)]\n",
    "\n",
    "print(squares)"
   ]
  },
  {
   "cell_type": "markdown",
   "metadata": {
    "colab_type": "text",
    "id": "gE4_wCXsytC9"
   },
   "source": [
    "Code a comprehension list that iterates over first 100 whole numbers and picks out the even ones:"
   ]
  },
  {
   "cell_type": "code",
   "execution_count": 82,
   "metadata": {
    "colab": {},
    "colab_type": "code",
    "id": "XST8D-5RytC-"
   },
   "outputs": [
    {
     "ename": "SyntaxError",
     "evalue": "invalid syntax (<ipython-input-82-7ae7ddffb942>, line 1)",
     "output_type": "error",
     "traceback": [
      "\u001b[1;36m  File \u001b[1;32m\"<ipython-input-82-7ae7ddffb942>\"\u001b[1;36m, line \u001b[1;32m1\u001b[0m\n\u001b[1;33m    print(2 * x for x in range(50)])\u001b[0m\n\u001b[1;37m                                  ^\u001b[0m\n\u001b[1;31mSyntaxError\u001b[0m\u001b[1;31m:\u001b[0m invalid syntax\n"
     ]
    }
   ],
   "source": [
    "print([2 * x for x in range(50)])"
   ]
  },
  {
   "cell_type": "markdown",
   "metadata": {
    "colab_type": "text",
    "id": "Ad156CjXytC_"
   },
   "source": [
    "Create a comprehension list that replaces every number <50 with True and >50 with False:"
   ]
  },
  {
   "cell_type": "code",
   "execution_count": null,
   "metadata": {
    "colab": {},
    "colab_type": "code",
    "id": "ARX5CJNgytC_"
   },
   "outputs": [],
   "source": [
    "# CODE HERE"
   ]
  },
  {
   "cell_type": "markdown",
   "metadata": {
    "colab_type": "text",
    "id": "HdLlGnK8ytDC"
   },
   "source": [
    "## While loop"
   ]
  },
  {
   "cell_type": "markdown",
   "metadata": {
    "colab_type": "text",
    "id": "8kqOY8ivytDD"
   },
   "source": [
    "While loop is a classic loop with a set condition, while the condition is true, the cycle will repeat."
   ]
  },
  {
   "cell_type": "code",
   "execution_count": 1,
   "metadata": {
    "colab": {},
    "colab_type": "code",
    "id": "ENjXbfybytDD",
    "scrolled": false
   },
   "outputs": [
    {
     "name": "stdout",
     "output_type": "stream",
     "text": [
      "0\n",
      "1\n",
      "2\n",
      "3\n",
      "4\n",
      "5\n",
      "6\n",
      "7\n",
      "8\n",
      "9\n"
     ]
    }
   ],
   "source": [
    "i = 0\n",
    "while i < 10:\n",
    "    print(i)\n",
    "    i = i + 1"
   ]
  },
  {
   "cell_type": "markdown",
   "metadata": {
    "colab_type": "text",
    "id": "ifhimblGytDF"
   },
   "source": [
    "If the while condition is always true, the cycle will never stop."
   ]
  },
  {
   "cell_type": "markdown",
   "metadata": {
    "colab_type": "text",
    "id": "bQv4Yt_KytDI"
   },
   "source": [
    "## Functions\n",
    "\n",
    "Functions are a basic building block of a programming language. In python, functions can return multiple variables at the output. (unlike C/C++ and Fortran). The syntax is:\n",
    "\n",
    "`def [function name]( [inputs] ):\n",
    "    [code within the function]\n",
    "    return [output]`"
   ]
  },
  {
   "cell_type": "code",
   "execution_count": 2,
   "metadata": {
    "colab": {},
    "colab_type": "code",
    "id": "WZHJZIvTytDJ"
   },
   "outputs": [],
   "source": [
    "def plus(a, b):\n",
    "    return a + b"
   ]
  },
  {
   "cell_type": "code",
   "execution_count": 3,
   "metadata": {
    "colab": {},
    "colab_type": "code",
    "id": "rwFFcH5TytDL"
   },
   "outputs": [
    {
     "name": "stdout",
     "output_type": "stream",
     "text": [
      "3\n",
      "2.2\n"
     ]
    }
   ],
   "source": [
    "print(plus(1, 2))\n",
    "print(plus(3.2, -1))"
   ]
  },
  {
   "cell_type": "code",
   "execution_count": 4,
   "metadata": {
    "colab": {},
    "colab_type": "code",
    "id": "ct6gpy0rytDO"
   },
   "outputs": [
    {
     "name": "stdout",
     "output_type": "stream",
     "text": [
      "9\n",
      "11\n"
     ]
    }
   ],
   "source": [
    "# functions can have default input values\n",
    "def plus2(a, b=2):\n",
    "    return a + b\n",
    "\n",
    "print(plus2(7))\n",
    "print(plus2(7,4))"
   ]
  },
  {
   "cell_type": "markdown",
   "metadata": {
    "colab_type": "text",
    "id": "rBbfiaadytDP"
   },
   "source": [
    "Analyse the following function, what do you think it does? Use the function on a number of testcases to see if your guess is correct."
   ]
  },
  {
   "cell_type": "code",
   "execution_count": 5,
   "metadata": {
    "colab": {},
    "colab_type": "code",
    "id": "tRCm5Z7VytDQ"
   },
   "outputs": [],
   "source": [
    "def random_func(a):\n",
    "    something = 0\n",
    "    \n",
    "    for character in str(a):\n",
    "        something += int(character)\n",
    "        \n",
    "    return something"
   ]
  },
  {
   "cell_type": "code",
   "execution_count": 6,
   "metadata": {
    "colab": {},
    "colab_type": "code",
    "id": "g3wtUlXgytDR"
   },
   "outputs": [
    {
     "data": {
      "text/plain": [
       "6"
      ]
     },
     "execution_count": 6,
     "metadata": {},
     "output_type": "execute_result"
    }
   ],
   "source": [
    "random_func(123)"
   ]
  },
  {
   "cell_type": "markdown",
   "metadata": {
    "colab_type": "text",
    "id": "0598FtoNytDT"
   },
   "source": [
    "Combine your knowledge of comprehension lists and functions to write a function that finds all the even numbers between n and m:"
   ]
  },
  {
   "cell_type": "code",
   "execution_count": 32,
   "metadata": {
    "colab": {},
    "colab_type": "code",
    "id": "YLxx7KIHytDU"
   },
   "outputs": [
    {
     "name": "stdout",
     "output_type": "stream",
     "text": [
      "[2, 4, 6, 8, 10, 12, 14, 16, 18, 20, 22, 24, 26, 28, 30, 32, 34, 36, 38, 40, 42, 44, 46, 48, 50, 52, 54, 56, 58, 60, 62, 64, 66, 68, 70, 72, 74, 76, 78, 80, 82, 84, 86, 88, 90, 92, 94, 96, 98]\n"
     ]
    }
   ],
   "source": [
    "import math\n",
    "def evens(n, m):\n",
    "    n = math.floor(n/2) + 1\n",
    "    m = math.floor(m/2)\n",
    "    return [2 * x for x in range (n, m)]\n",
    "print(evens(1, 100))"
   ]
  },
  {
   "cell_type": "markdown",
   "metadata": {
    "colab_type": "text",
    "id": "dli48oXZytDX"
   },
   "source": [
    "***\n",
    "## [Problem]\n",
    "A bank provides ISA with 5% interest per annum. If you deposit 50 pounds a month into the ISA over the period of one year, and the money deposited in the account is compounded at the end of every month, how much money will be in the account at the end of the year?"
   ]
  },
  {
   "cell_type": "code",
   "execution_count": 50,
   "metadata": {
    "colab": {},
    "colab_type": "code",
    "id": "O2wxOQr4ytDY"
   },
   "outputs": [
    {
     "name": "stdout",
     "output_type": "stream",
     "text": [
      "49258654.65108081\n",
      "100000\n",
      "49158654.65108081\n"
     ]
    }
   ],
   "source": [
    "ir_annum = 0.05\n",
    "ir_monthly = ir_annum / 12\n",
    "months = 2000\n",
    "account = 0\n",
    "deposit = 50\n",
    "for i in range(months):\n",
    "    account += deposit\n",
    "    account = account + account * ir_monthly\n",
    "print(account)\n",
    "print(deposit * months)\n",
    "print(account - deposit * months)"
   ]
  },
  {
   "cell_type": "markdown",
   "metadata": {
    "colab_type": "text",
    "collapsed": true,
    "id": "BaDBNseSytDa"
   },
   "source": [
    "---\n",
    "## [Problem]\n",
    "Code a function that sums the digits in a number.\n"
   ]
  },
  {
   "cell_type": "code",
   "execution_count": 54,
   "metadata": {
    "colab": {},
    "colab_type": "code",
    "id": "LyREGapIytDc"
   },
   "outputs": [
    {
     "data": {
      "text/plain": [
       "24"
      ]
     },
     "execution_count": 54,
     "metadata": {},
     "output_type": "execute_result"
    }
   ],
   "source": [
    "def sum_digits(n):\n",
    "    r = 0\n",
    "    while n:\n",
    "        r, n = r + n % 10, n // 10\n",
    "    return r\n",
    "sum_digits(1434345)"
   ]
  },
  {
   "cell_type": "markdown",
   "metadata": {
    "colab_type": "text",
    "id": "_qmNdcEUytDf"
   },
   "source": [
    "---\n",
    "## [Problem]\n",
    "Find the sum of all integer multiples of 3 or 5 smaller than 10000."
   ]
  },
  {
   "cell_type": "code",
   "execution_count": null,
   "metadata": {
    "colab": {},
    "colab_type": "code",
    "id": "XvSLpUkxytDg"
   },
   "outputs": [],
   "source": [
    "# how to find multiples with"
   ]
  },
  {
   "cell_type": "markdown",
   "metadata": {
    "colab_type": "text",
    "id": "SYv2EezlytDh"
   },
   "source": [
    "---\n",
    "## [Problem] [Adv]\n",
    "Code a function that decides whether the input is a prime number or not.\n",
    "\n",
    "Find the sum of the first 100 prime numbers."
   ]
  },
  {
   "cell_type": "code",
   "execution_count": 93,
   "metadata": {
    "colab": {},
    "colab_type": "code",
    "id": "Nld1FQ7wytDh"
   },
   "outputs": [
    {
     "data": {
      "text/plain": [
       "True"
      ]
     },
     "execution_count": 93,
     "metadata": {},
     "output_type": "execute_result"
    }
   ],
   "source": [
    "def is_prime(n):\n",
    "    if (n == 2):\n",
    "        return True\n",
    "    for i in range(2, math.ceil(math.sqrt(n)) +  1):\n",
    "        if not (n % i):\n",
    "            return False\n",
    "    return True\n",
    "is_prime(2)"
   ]
  },
  {
   "cell_type": "code",
   "execution_count": 103,
   "metadata": {},
   "outputs": [
    {
     "name": "stdout",
     "output_type": "stream",
     "text": [
      "[2, 3, 5, 7, 11, 13, 17, 19, 23, 29, 31, 37, 41, 43, 47, 53, 59, 61, 67, 71, 73, 79, 83, 89, 97, 101, 103, 107, 109, 113, 127, 131, 137, 139, 149, 151, 157, 163, 167, 173, 179, 181, 191, 193, 197, 199, 211, 223, 227, 229, 233, 239, 241, 251, 257, 263, 269, 271, 277, 281, 283, 293, 307, 311, 313, 317, 331, 337, 347, 349, 353, 359, 367, 373, 379, 383, 389, 397, 401, 409, 419, 421, 431, 433, 439, 443, 449, 457, 461, 463, 467, 479, 487, 491, 499, 503, 509, 521, 523, 541]\n",
      "\n",
      "100\n",
      "Sum = 24133\n"
     ]
    }
   ],
   "source": [
    "n = []\n",
    "i = 2\n",
    "while (len(n) < 100):\n",
    "    if (is_prime(i)):\n",
    "        n.append(i)\n",
    "    i += 1\n",
    "print(n)\n",
    "print()\n",
    "print(len(n))\n",
    "print(\"Sum = \" + str(sum(n)))"
   ]
  },
  {
   "cell_type": "code",
   "execution_count": null,
   "metadata": {},
   "outputs": [],
   "source": []
  }
 ],
 "metadata": {
  "colab": {
   "collapsed_sections": [
    "QEtzHGOfytCA",
    "P59pCAkFytCp",
    "a6AyL9JvytC5",
    "HdLlGnK8ytDC",
    "bQv4Yt_KytDI",
    "dli48oXZytDX",
    "BaDBNseSytDa",
    "_qmNdcEUytDf",
    "SYv2EezlytDh"
   ],
   "name": "lec_1.ipynb",
   "provenance": [],
   "version": "0.3.2"
  },
  "kernelspec": {
   "display_name": "Python 3",
   "language": "python",
   "name": "python3"
  },
  "language_info": {
   "codemirror_mode": {
    "name": "ipython",
    "version": 3
   },
   "file_extension": ".py",
   "mimetype": "text/x-python",
   "name": "python",
   "nbconvert_exporter": "python",
   "pygments_lexer": "ipython3",
   "version": "3.6.7"
  }
 },
 "nbformat": 4,
 "nbformat_minor": 1
}
