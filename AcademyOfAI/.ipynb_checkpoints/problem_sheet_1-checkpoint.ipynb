{
 "cells": [
  {
   "cell_type": "markdown",
   "metadata": {
    "colab_type": "text",
    "id": "Q25FKmGohQgP"
   },
   "source": [
    "#### Problem 1:\n",
    "    \n",
    "    Write a piece of code that finds all whole numbers smaller than 1000 that can be written as a sum of two whole number squares."
   ]
  },
  {
   "cell_type": "code",
   "execution_count": 2,
   "metadata": {},
   "outputs": [],
   "source": [
    "import math"
   ]
  },
  {
   "cell_type": "code",
   "execution_count": 17,
   "metadata": {
    "colab": {},
    "colab_type": "code",
    "id": "hfd7DnrxXJOU"
   },
   "outputs": [
    {
     "name": "stdout",
     "output_type": "stream",
     "text": [
      "[512, 2, 514, 5, 8, 520, 10, 522, 521, 13, 17, 530, 18, 20, 533, 25, 26, 538, 29, 541, 32, 545, 34, 544, 548, 37, 549, 40, 41, 554, 45, 557, 50, 562, 52, 53, 565, 569, 58, 61, 65, 577, 578, 68, 580, 72, 73, 585, 74, 584, 586, 80, 592, 82, 593, 596, 85, 89, 90, 601, 605, 97, 98, 610, 100, 101, 612, 613, 104, 617, 106, 109, 113, 626, 625, 116, 629, 117, 628, 634, 122, 125, 637, 128, 641, 130, 640, 136, 137, 650, 648, 653, 656, 145, 146, 657, 148, 661, 149, 153, 666, 157, 160, 673, 674, 162, 164, 677, 676, 680, 169, 170, 173, 685, 689, 178, 692, 180, 181, 185, 697, 698, 701, 193, 194, 706, 197, 709, 200, 712, 202, 205, 208, 720, 722, 212, 725, 724, 730, 218, 733, 221, 225, 226, 738, 740, 229, 232, 745, 234, 233, 746, 241, 754, 242, 244, 245, 757, 761, 250, 765, 257, 769, 260, 261, 772, 773, 776, 265, 778, 269, 272, 785, 274, 788, 277, 793, 281, 794, 797, 800, 289, 290, 288, 292, 293, 801, 802, 296, 809, 298, 810, 808, 305, 306, 818, 820, 821, 313, 314, 829, 317, 320, 833, 832, 325, 328, 841, 842, 845, 333, 848, 337, 850, 338, 340, 853, 857, 346, 349, 353, 866, 865, 356, 360, 873, 362, 872, 365, 877, 369, 370, 881, 884, 373, 882, 377, 890, 386, 898, 388, 901, 389, 900, 904, 905, 394, 392, 909, 397, 400, 401, 914, 404, 916, 405, 409, 410, 922, 925, 416, 928, 929, 932, 421, 936, 425, 424, 937, 941, 433, 436, 949, 953, 442, 954, 445, 449, 962, 450, 964, 965, 452, 968, 457, 970, 458, 461, 464, 977, 466, 976, 468, 981, 980, 985, 986, 477, 481, 482, 485, 997, 488, 490, 493, 500, 505, 509]\n"
     ]
    }
   ],
   "source": [
    "n = 1000\n",
    "lim = math.ceil(math.sqrt(n)) + 1\n",
    "nums = []\n",
    "for i in range(1, lim):\n",
    "    for j in range(i, lim):\n",
    "        num_sum = i ** 2 + j ** 2\n",
    "        if (num_sum < 1000):\n",
    "            nums.append(num_sum)    \n",
    "print(list(set(nums)))"
   ]
  },
  {
   "cell_type": "markdown",
   "metadata": {
    "colab_type": "text",
    "id": "HG0NNPZhhQgR"
   },
   "source": [
    "#### Problem 2:\n",
    "    \n",
    "    Write a function that will take two whole numbers as its input, and finds all fibonacci numbers inbetween them. If the user specifies only a single number in the input, find all fibonacci numbers smaller than the input."
   ]
  },
  {
   "cell_type": "code",
   "execution_count": 42,
   "metadata": {
    "colab": {},
    "colab_type": "code",
    "id": "G3H-0-ZuXJOa"
   },
   "outputs": [
    {
     "name": "stdout",
     "output_type": "stream",
     "text": [
      "[3, 5, 8, 13, 21, 34, 55, 89, 144, 233, 377, 610, 987, 1597, 2584, 4181, 6765, 10946, 17711, 28657, 46368, 75025, 121393, 196418, 317811, 514229, 832040, 1346269, 2178309, 3524578, 5702887, 9227465]\n"
     ]
    }
   ],
   "source": [
    "def gen_fibs(n):\n",
    "    fibs = [0, 1]\n",
    "    prev1 = 0\n",
    "    prev2 = 1\n",
    "    while (prev1 + prev2 < n):\n",
    "        fibs.append(prev1 + prev2)\n",
    "        temp = prev1\n",
    "        prev1 = prev2\n",
    "        prev2 = temp + prev2\n",
    "    return fibs\n",
    "\n",
    "def fibs(bigger, smaller = 0):\n",
    "    return [x for x in gen_fibs(bigger) if x > smaller]\n",
    "    \n",
    "print(fibs(10000000, 2))"
   ]
  },
  {
   "cell_type": "markdown",
   "metadata": {
    "colab_type": "text",
    "id": "sMcm7tdgXJOd"
   },
   "source": [
    "#### Problem 3\n",
    "    \n",
    "    Write a function that finds the square root of a number using the bisection method.\n",
    "    "
   ]
  },
  {
   "cell_type": "code",
   "execution_count": 54,
   "metadata": {
    "colab": {},
    "colab_type": "code",
    "id": "liBgnG43XJOe"
   },
   "outputs": [
    {
     "name": "stdout",
     "output_type": "stream",
     "text": [
      "6.324555320336758\n"
     ]
    }
   ],
   "source": [
    "def bisection(n):\n",
    "    prev = n / 2\n",
    "    while True:\n",
    "        guess = (prev + n / prev) / 2\n",
    "        if (round(prev, 10) == round(guess, 10)):\n",
    "            return guess\n",
    "        else:\n",
    "            prev = guess\n",
    "\n",
    "print(bisection(40))"
   ]
  },
  {
   "cell_type": "markdown",
   "metadata": {
    "colab_type": "text",
    "id": "5SPrMYyqhetF"
   },
   "source": [
    "#### Problem 4    \n",
    "    \n",
    "    Write a function that finds the square root of a number using the Newton-Raphson method. "
   ]
  },
  {
   "cell_type": "code",
   "execution_count": 0,
   "metadata": {
    "colab": {},
    "colab_type": "code",
    "id": "248BVJuOXJOi"
   },
   "outputs": [],
   "source": [
    "# Write your solution here"
   ]
  }
 ],
 "metadata": {
  "colab": {
   "collapsed_sections": [],
   "name": "problem_sheet_1.ipynb",
   "provenance": [],
   "version": "0.3.2"
  },
  "kernelspec": {
   "display_name": "Python 3",
   "language": "python",
   "name": "python3"
  },
  "language_info": {
   "codemirror_mode": {
    "name": "ipython",
    "version": 3
   },
   "file_extension": ".py",
   "mimetype": "text/x-python",
   "name": "python",
   "nbconvert_exporter": "python",
   "pygments_lexer": "ipython3",
   "version": "3.6.7"
  }
 },
 "nbformat": 4,
 "nbformat_minor": 1
}
