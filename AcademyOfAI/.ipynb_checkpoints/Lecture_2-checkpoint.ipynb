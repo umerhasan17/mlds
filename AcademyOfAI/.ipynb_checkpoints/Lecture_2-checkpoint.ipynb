{
 "cells": [
  {
   "cell_type": "markdown",
   "metadata": {
    "colab_type": "text",
    "id": "GNP69FQmMfF6"
   },
   "source": [
    "# Introduction to Scientific Python\n",
    "\n",
    "In this short crash course we will learn to use scientific libraries in Python, specifically we will look at NumPy, Matplotlib, and Pandas. NumPy is the most commonly used library for scientific computations, Matplotlib is primarily used for 2D plotting, and Pandas is a data analysis and text processing library.\n",
    "\n",
    "### Uses\n",
    "\n",
    "* Numpy - Contains a strong array object that allows for vectorised calculations, also has many linear algebra operations\n",
    "* Numpy - The functions are executed as a pre-compiled C code, making them faster than analogous pythonic implementations.\n",
    "* Matplotlib - Easy to use plotting tool, mostly used for 2D plots. Legends say that some people use it for 3D plots too.\n",
    "* Pandas - We will use pandas as a means of data manipulation, but it also contains many data analysis tools.\n",
    "\n",
    "### Plan for today\n",
    "1. Numpy: N-darrays, indexing, shapes, linear algebra, vectorised functions \n",
    "2. Matplotlib: line plots, scatter plots, bar charts, histograms, box plots\n",
    "3. Pandas: Importing files, cleaning data\n",
    "\n",
    "### How to learn Python?\n",
    "\n",
    "* It is a language, the only way to learn it is to speak it. *Don't be afraid, make mistakes, and ask questions.*\n",
    "* *Practice makes perfect*. Initially you will be forgetting the commands, the more you practice the sooner you will remember the syntax.\n",
    "* If you don't understand something, first compose the question properly, think about it, and if you can't think of a solution ask someone!\n",
    "* Before you execute any cell, stop and try to predict what it will do! Ideally write your prediction on a piece of paper!\n",
    "* Experiment! Change the code in the cells, try various test cases to understand how the code behaves."
   ]
  },
  {
   "cell_type": "markdown",
   "metadata": {
    "colab_type": "text",
    "id": "qgT7neIrMfF9"
   },
   "source": [
    "## Numpy"
   ]
  },
  {
   "cell_type": "markdown",
   "metadata": {
    "colab_type": "text",
    "id": "LP_B2pMcMfF-"
   },
   "source": [
    "To be able to use the tools provided in the Numpy library, it is necessary to import it. This is always done at the beginning of any code. Numpy is imported and aliased to np by convention."
   ]
  },
  {
   "cell_type": "code",
   "execution_count": 0,
   "metadata": {
    "colab": {},
    "colab_type": "code",
    "id": "rfyyGT-sMfGA"
   },
   "outputs": [],
   "source": [
    "import numpy as np"
   ]
  },
  {
   "cell_type": "markdown",
   "metadata": {
    "colab_type": "text",
    "id": "A1ljnYmpMfGF"
   },
   "source": [
    "### Array creation"
   ]
  },
  {
   "cell_type": "markdown",
   "metadata": {
    "colab_type": "text",
    "id": "u52qEAMVMfGG"
   },
   "source": [
    "The basic data structure provided by Numpy is the ndarray (n-dimensional array). The ndarray object is similar to a list, but has some notable differences. While a list can contain different types, e.g. mylist = [1, 2., \"fish\"]. Arrays can only store items of the same datatype (e.g. integers, floats, etc.). Arrays can be created in a number of ways:"
   ]
  },
  {
   "cell_type": "markdown",
   "metadata": {
    "colab_type": "text",
    "id": "tuvFx_s-MfGH"
   },
   "source": [
    "- from a Python iterable (the \"iterable\" is most commonly a list)"
   ]
  },
  {
   "cell_type": "code",
   "execution_count": 2,
   "metadata": {
    "colab": {
     "base_uri": "https://localhost:8080/",
     "height": 50
    },
    "colab_type": "code",
    "executionInfo": {
     "elapsed": 560,
     "status": "ok",
     "timestamp": 1540225163639,
     "user": {
      "displayName": "Edward Lim",
      "photoUrl": "",
      "userId": "05219823243799720278"
     },
     "user_tz": -60
    },
    "id": "EdHjhIPEMfGH",
    "outputId": "7cebd5b2-64d1-4e09-d0f4-a32d46d01171"
   },
   "outputs": [
    {
     "name": "stdout",
     "output_type": "stream",
     "text": [
      "[0, 1, 2]\n",
      "[0 1 2]\n"
     ]
    }
   ],
   "source": [
    "mylist = [0,1,2]\n",
    "a = np.array(mylist) # a rank 1 array of integers\n",
    "\n",
    "print(mylist)\n",
    "print(a)"
   ]
  },
  {
   "cell_type": "markdown",
   "metadata": {
    "colab_type": "text",
    "id": "DSfftt9jjGFI"
   },
   "source": [
    "Note that the structure of the function \"np.array()\" implies that the function \"array()\" is associated with the Numpy library referenced as \"np\". "
   ]
  },
  {
   "cell_type": "code",
   "execution_count": 3,
   "metadata": {
    "colab": {
     "base_uri": "https://localhost:8080/",
     "height": 50
    },
    "colab_type": "code",
    "executionInfo": {
     "elapsed": 516,
     "status": "ok",
     "timestamp": 1540225169472,
     "user": {
      "displayName": "Edward Lim",
      "photoUrl": "",
      "userId": "05219823243799720278"
     },
     "user_tz": -60
    },
    "id": "kDdEKDZ4jGFK",
    "outputId": "b4f4d447-25c6-476f-f617-0c49c780068c"
   },
   "outputs": [
    {
     "name": "stdout",
     "output_type": "stream",
     "text": [
      "<class 'list'>\n",
      "<class 'numpy.ndarray'>\n"
     ]
    }
   ],
   "source": [
    "print(type(mylist))\n",
    "print(type(a))"
   ]
  },
  {
   "cell_type": "markdown",
   "metadata": {
    "colab_type": "text",
    "id": "LTxod-OqMfGK"
   },
   "source": [
    "- using arange, which is the Numpy equivalent of Python's builtin range, but returns an ndarray:"
   ]
  },
  {
   "cell_type": "code",
   "execution_count": 0,
   "metadata": {
    "colab": {},
    "colab_type": "code",
    "id": "8zJftb2AMfGL"
   },
   "outputs": [],
   "source": [
    "a = np.arange(start=0., stop=1., step=.1) # a rank 1 array of floats \n",
    "                                          # note that start is set to zero by default, and step to one\n",
    "b = np.arange(10) # a rank 1 array of ints from 0 to 9\n",
    "\n",
    "print(b)"
   ]
  },
  {
   "cell_type": "markdown",
   "metadata": {
    "colab_type": "text",
    "id": "DQv_bgYfMfGP"
   },
   "source": [
    "- using linspace and logspace"
   ]
  },
  {
   "cell_type": "code",
   "execution_count": 0,
   "metadata": {
    "colab": {},
    "colab_type": "code",
    "id": "NDV09wAXMfGQ"
   },
   "outputs": [],
   "source": [
    "a = np.linspace(start=0, stop=5, num=10) # a rank 1 array of 10 evenly-spaced floats between 0 and 5\n",
    "                                         # this can be thought of as a linear axis of a graph with evenly-spaced ticks\n",
    "b = np.logspace(-6, -1, 6) # a rank 1 array of evenly-spaced floats on a logarithmic scale between 10^-6 and 10^-1\n",
    "\n",
    "print(b)"
   ]
  },
  {
   "cell_type": "markdown",
   "metadata": {
    "colab_type": "text",
    "id": "vo_NHHPzMfGS"
   },
   "source": [
    "- using built-in numpy functions"
   ]
  },
  {
   "cell_type": "code",
   "execution_count": 0,
   "metadata": {
    "colab": {},
    "colab_type": "code",
    "id": "4WwS5dltMfGU"
   },
   "outputs": [],
   "source": [
    "zeros = np.zeros(5) # rank 1 array of 5 zeros\n",
    "ones = np.ones(3)   # it's in the name\n",
    "eye = np.eye(8) # 8x8 identity matrix\n",
    "\n",
    "print(zeros, ones)"
   ]
  },
  {
   "cell_type": "markdown",
   "metadata": {
    "colab_type": "text",
    "id": "BH_Tag2QjGFa"
   },
   "source": [
    "Task: Create a 5x8 matrix of ones *Hint: Array shapes can be specified by a tuple (x,y)*"
   ]
  },
  {
   "cell_type": "code",
   "execution_count": 0,
   "metadata": {
    "colab": {},
    "colab_type": "code",
    "id": "ASO_Jsq_jGFb"
   },
   "outputs": [],
   "source": [
    "# CODE HERE"
   ]
  },
  {
   "cell_type": "markdown",
   "metadata": {
    "colab_type": "text",
    "id": "BRyDseVujGFe"
   },
   "source": [
    "Arrays do not have to be one-dimensional, one-dimensional arrays correspond to vectors in mathematics. Arrays can also form matrices. An example of a matrix array is the \"eye\" matrix defined above."
   ]
  },
  {
   "cell_type": "code",
   "execution_count": 0,
   "metadata": {
    "colab": {},
    "colab_type": "code",
    "id": "N0-fN7kejGFf"
   },
   "outputs": [],
   "source": [
    "print(eye)"
   ]
  },
  {
   "cell_type": "markdown",
   "metadata": {
    "colab_type": "text",
    "id": "Vb4w8onKMfGX"
   },
   "source": [
    "### Exercises"
   ]
  },
  {
   "cell_type": "markdown",
   "metadata": {
    "colab_type": "text",
    "id": "2AMEWCk2MfGY"
   },
   "source": [
    "- create a set of axes for a graph as Numpy arrays. Let the x axis be **uniformly spaced** from 0 to 60 with scale 1 (i.e. one tick per value) and the y axis be on **log scale** and represent the powers of 10 from 0 to 6."
   ]
  },
  {
   "cell_type": "code",
   "execution_count": 0,
   "metadata": {
    "colab": {},
    "colab_type": "code",
    "id": "hHG_-1oNMfGZ"
   },
   "outputs": [],
   "source": [
    "# CODE HERE"
   ]
  },
  {
   "cell_type": "markdown",
   "metadata": {
    "colab_type": "text",
    "id": "1NXlBl8lMfGd"
   },
   "source": [
    "### Accessing elements (array indexing) and shapes"
   ]
  },
  {
   "cell_type": "markdown",
   "metadata": {
    "colab_type": "text",
    "id": "-uZM5p7bMfGf"
   },
   "source": [
    "Accessing elements in ndarrays is similar to Python lists. However, arrays can be indexed along multiple dimensions. This can be thought of as creating lists of lists. Imagine an array and a list:"
   ]
  },
  {
   "cell_type": "code",
   "execution_count": 0,
   "metadata": {
    "colab": {},
    "colab_type": "code",
    "id": "9hL3Gq0pMfGf"
   },
   "outputs": [],
   "source": [
    "a = np.array([[0, 1, 2],\n",
    "              [3, 4, 5],\n",
    "              [6, 7, 8]])\n",
    "\n",
    "b = [[0,1,2],[3,4,5],[6,7,8]]"
   ]
  },
  {
   "cell_type": "markdown",
   "metadata": {
    "colab_type": "text",
    "id": "9FFy_o_BjGFr"
   },
   "source": [
    "Access the element \"5\" in the list b:"
   ]
  },
  {
   "cell_type": "code",
   "execution_count": 0,
   "metadata": {
    "colab": {},
    "colab_type": "code",
    "id": "JFitWIXmjGFs"
   },
   "outputs": [],
   "source": [
    "# CODE HERE"
   ]
  },
  {
   "cell_type": "markdown",
   "metadata": {
    "colab_type": "text",
    "id": "97K8vRR4jGFu"
   },
   "source": [
    "Similarly, we can access the element \"5\" in the ndarray as:"
   ]
  },
  {
   "cell_type": "code",
   "execution_count": 0,
   "metadata": {
    "colab": {},
    "colab_type": "code",
    "id": "oFno9cgQjGFw"
   },
   "outputs": [],
   "source": [
    "element = a[1,2]\n",
    "print(element)"
   ]
  },
  {
   "cell_type": "markdown",
   "metadata": {
    "colab_type": "text",
    "id": "-0rb506IjGFy"
   },
   "source": [
    "The overall format is ```array[y, x]```, where indexing starts from zero (or for more dimensional objects ```array[x1, x2, ..., xn]```). Other analogous operations are:"
   ]
  },
  {
   "cell_type": "code",
   "execution_count": 0,
   "metadata": {
    "colab": {},
    "colab_type": "code",
    "id": "HmqDf2kxjGFy"
   },
   "outputs": [],
   "source": [
    "print(a[0])    # prints [0, 1, 2]\n",
    "print(a[0, 0]) # prints 0\n",
    "print(a[:, 1]) # prints [1, 4, 7]"
   ]
  },
  {
   "cell_type": "markdown",
   "metadata": {
    "colab_type": "text",
    "id": "RPHJCxQcMfGj"
   },
   "source": [
    "Here : denotes all elements along the axis. For a 2D array (i.e. a matrix) axis 0 is along rows and axis 1 along columns."
   ]
  },
  {
   "cell_type": "markdown",
   "metadata": {
    "colab_type": "text",
    "id": "HH8lL3tNMfGl"
   },
   "source": [
    "#### Slicing\n",
    "Arrays support slicing along each axis, which works very similarly to Python lists. Slicing is an operation where only a certain part of an ndarray is picked out."
   ]
  },
  {
   "cell_type": "code",
   "execution_count": 0,
   "metadata": {
    "colab": {},
    "colab_type": "code",
    "id": "_ltYOrNMMfGl"
   },
   "outputs": [],
   "source": [
    "a = np.linspace(0, 9, 10)\n",
    "print(a[0:5]) # prints [0., 1., 2., 3., 4.]\n",
    "\n",
    "b = np.array([[0,  1,  2],\n",
    "              [3,  4,  5],\n",
    "              [6,  7,  8],\n",
    "              [9, 10, 11]])\n",
    "print('-'*12)\n",
    "print(b[:, 0:2]) # prints [[0,  1]\n",
    "                 #         [3,  4]\n",
    "                 #         [6,  7]\n",
    "                 #         [9, 10]]"
   ]
  },
  {
   "cell_type": "markdown",
   "metadata": {
    "colab_type": "text",
    "id": "UeH7BtG3jGF5"
   },
   "source": [
    "Zeroes can be omitted from the indexing:"
   ]
  },
  {
   "cell_type": "code",
   "execution_count": 0,
   "metadata": {
    "colab": {},
    "colab_type": "code",
    "id": "aitS0GpIjGF6"
   },
   "outputs": [],
   "source": [
    "print(b[:,:2])\n",
    "\n",
    "print(b[:,:])"
   ]
  },
  {
   "cell_type": "markdown",
   "metadata": {
    "colab_type": "text",
    "id": "08rtXTVUjGF8"
   },
   "source": [
    "Use slicing to print second and third row of ndarray \"b\" , and second and third column:"
   ]
  },
  {
   "cell_type": "code",
   "execution_count": 0,
   "metadata": {
    "colab": {},
    "colab_type": "code",
    "id": "3uBfDp_XjGF8"
   },
   "outputs": [],
   "source": [
    "# CODE HERE"
   ]
  },
  {
   "cell_type": "markdown",
   "metadata": {
    "colab_type": "text",
    "id": "l3wfsBhcMfGq"
   },
   "source": [
    "#### Boolean indexing\n",
    "Arrays can also be indexed using boolean (logic) values, the format is ```array[ condition ]```, the operation will remove all elements of the array that do not satisfy the condition."
   ]
  },
  {
   "cell_type": "code",
   "execution_count": 0,
   "metadata": {
    "colab": {},
    "colab_type": "code",
    "id": "YE5RyW68MfGr"
   },
   "outputs": [],
   "source": [
    "a = np.arange(10)\n",
    "print(a)\n",
    "print(a[a < 5]) # prints [0, 1, 2, 3, 4]\n",
    "print(a[a % 2 == 0]) # prints [0, 2, 4, 6, 8]"
   ]
  },
  {
   "cell_type": "markdown",
   "metadata": {
    "colab_type": "text",
    "id": "q2dWsUUeMfGw"
   },
   "source": [
    "#### Shapes\n",
    "The shape of the array is a tuple of size ```(array.ndim)```, where each element is the size of the array along that axis. This can be thought of as a multidimensional ```len()``` function."
   ]
  },
  {
   "cell_type": "code",
   "execution_count": 48,
   "metadata": {
    "colab": {
     "base_uri": "https://localhost:8080/",
     "height": 50
    },
    "colab_type": "code",
    "executionInfo": {
     "elapsed": 509,
     "status": "ok",
     "timestamp": 1540236155220,
     "user": {
      "displayName": "Edward Lim",
      "photoUrl": "",
      "userId": "05219823243799720278"
     },
     "user_tz": -60
    },
    "id": "P_Irxo3yMfGx",
    "outputId": "0b4cf0a2-970e-4de6-873c-05d6bf240761"
   },
   "outputs": [
    {
     "name": "stdout",
     "output_type": "stream",
     "text": [
      "(3,)\n",
      "[list([[0, 3], [1], [2]]) list([[3], [5]]) list([[6], [7], [8]])]\n"
     ]
    }
   ],
   "source": [
    "a = np.array([0, 1, 2])\n",
    "print(a.shape) # prints 3\n",
    "b = np.array([[[0,3], [1], [2]],\n",
    "              [[3], # [5]],\n",
    "              [[6], [7], [8]]])\n",
    "print(b) # prints (3, 3, 1)"
   ]
  },
  {
   "cell_type": "markdown",
   "metadata": {
    "colab_type": "text",
    "id": "1MMVJTtVjGGF"
   },
   "source": [
    "Task: Why is the shape of the matrix ```b``` (3, 3, 1)?"
   ]
  },
  {
   "cell_type": "markdown",
   "metadata": {
    "colab_type": "text",
    "id": "Ql0s3hsvMfG0"
   },
   "source": [
    "The shape of the array can be changed using the reshape method."
   ]
  },
  {
   "cell_type": "code",
   "execution_count": 0,
   "metadata": {
    "colab": {},
    "colab_type": "code",
    "id": "uofSKjWJMfG2"
   },
   "outputs": [],
   "source": [
    "a = np.arange(9)\n",
    "b = a.reshape((3, 3))\n",
    "c = b.reshape((9,1))\n",
    "\n",
    "print(a)\n",
    "print(10*'*')\n",
    "print(b)\n",
    "print(10*'*')\n",
    "print(c)"
   ]
  },
  {
   "cell_type": "markdown",
   "metadata": {
    "colab_type": "text",
    "id": "pZ2SzLdPMfG4"
   },
   "source": [
    "Note that the total number of elements in the new array has to be equal to the number of elements in the initial array. The code below will throw an error."
   ]
  },
  {
   "cell_type": "code",
   "execution_count": 0,
   "metadata": {
    "colab": {},
    "colab_type": "code",
    "id": "OLnaXtK-MfG4"
   },
   "outputs": [],
   "source": [
    "try:\n",
    "    a = np.arange(5).reshape((3, 3))\n",
    "except ValueError as e:\n",
    "    print(e)"
   ]
  },
  {
   "cell_type": "markdown",
   "metadata": {
    "colab_type": "text",
    "id": "iNYVQxJ4MfG8"
   },
   "source": [
    "### Exercises"
   ]
  },
  {
   "cell_type": "markdown",
   "metadata": {
    "colab_type": "text",
    "id": "7joX2WMTMfG9"
   },
   "source": [
    "- get the **first column** and the **third row** of the following array."
   ]
  },
  {
   "cell_type": "code",
   "execution_count": 0,
   "metadata": {
    "colab": {},
    "colab_type": "code",
    "id": "KR9tNskPMfG-"
   },
   "outputs": [],
   "source": [
    "a = np.array([[23, 324,  21, 116], \n",
    "              [ 0,  55, 232, 122],\n",
    "              [42,  43,  44,  45],\n",
    "              [178, 67, 567,  55]])"
   ]
  },
  {
   "cell_type": "code",
   "execution_count": 0,
   "metadata": {
    "colab": {},
    "colab_type": "code",
    "id": "Jc6ansmRMfHA"
   },
   "outputs": [],
   "source": [
    "# CODE HERE"
   ]
  },
  {
   "cell_type": "markdown",
   "metadata": {
    "colab_type": "text",
    "id": "SVnfzuD4MfHD"
   },
   "source": [
    "- find all numbers divisible by 7 between 0 and 50."
   ]
  },
  {
   "cell_type": "code",
   "execution_count": 0,
   "metadata": {
    "colab": {},
    "colab_type": "code",
    "id": "28YDmvM9MfHD"
   },
   "outputs": [],
   "source": [
    "# CODE HERE"
   ]
  },
  {
   "cell_type": "markdown",
   "metadata": {
    "colab_type": "text",
    "id": "BIew4qpbjGGX"
   },
   "source": [
    "- create an 8x8 identity matrix and reshape it into a flat one-dimensional vector, then remove all zeroes."
   ]
  },
  {
   "cell_type": "code",
   "execution_count": 0,
   "metadata": {
    "colab": {},
    "colab_type": "code",
    "id": "MIML5k_3jGGY"
   },
   "outputs": [],
   "source": [
    "# CODE HERE"
   ]
  },
  {
   "cell_type": "markdown",
   "metadata": {
    "colab_type": "text",
    "id": "1Uwl28bhMfHG"
   },
   "source": [
    "### Mathematical operations and broadcasting"
   ]
  },
  {
   "cell_type": "markdown",
   "metadata": {
    "colab_type": "text",
    "id": "BkC7pbE9MfHH"
   },
   "source": [
    "#### Basic arithmetics\n",
    "Numpy arrays support the standard mathematical operations, these are vectorised, i.e. the operations are performed on each element."
   ]
  },
  {
   "cell_type": "code",
   "execution_count": 40,
   "metadata": {
    "colab": {
     "base_uri": "https://localhost:8080/",
     "height": 336
    },
    "colab_type": "code",
    "executionInfo": {
     "elapsed": 574,
     "status": "ok",
     "timestamp": 1540226841590,
     "user": {
      "displayName": "Edward Lim",
      "photoUrl": "",
      "userId": "05219823243799720278"
     },
     "user_tz": -60
    },
    "id": "8WBw09BXMfHH",
    "outputId": "cfff6a33-1154-4de7-838e-071ca78f1c7b",
    "scrolled": true
   },
   "outputs": [
    {
     "name": "stdout",
     "output_type": "stream",
     "text": [
      "[[0 1 2]\n",
      " [3 4 5]\n",
      " [6 7 8]]\n",
      "[[1 2 3]\n",
      " [4 5 6]\n",
      " [7 8 9]]\n",
      "------------\n",
      "[[0 1 2]\n",
      " [3 4 5]\n",
      " [6 7 8]]\n",
      "[[-5 -4 -3]\n",
      " [-2 -1  0]\n",
      " [ 1  2  3]]\n",
      "------------\n",
      "[10 11 12]\n",
      "[30 33 36]\n",
      "------------\n",
      "[10 11 12]\n",
      "[5.  5.5 6. ]\n"
     ]
    }
   ],
   "source": [
    "a = np.arange(9).reshape(3, 3)\n",
    "b = np.array([10, 11, 12])\n",
    "\n",
    "print(a)\n",
    "print(a + 1) # one is added to each element of the array\n",
    "\n",
    "print('-'*12)\n",
    "\n",
    "print(a)\n",
    "print(a - 5) # five is subtracted from each element\n",
    "\n",
    "print('-'*12)\n",
    "\n",
    "print(b)\n",
    "print(b * 3) # each element is tripled\n",
    "\n",
    "print('-'*12)\n",
    "\n",
    "print(b)\n",
    "print(b / 2) # each element is halved"
   ]
  },
  {
   "cell_type": "markdown",
   "metadata": {
    "colab_type": "text",
    "id": "uOR1VWHZMfHL"
   },
   "source": [
    "#### Broadcasting\n",
    "Operations involving 2 or more arrays are also possible. However, they must obey the rules of broadcasting."
   ]
  },
  {
   "cell_type": "code",
   "execution_count": 39,
   "metadata": {
    "colab": {
     "base_uri": "https://localhost:8080/",
     "height": 313
    },
    "colab_type": "code",
    "executionInfo": {
     "elapsed": 485,
     "status": "error",
     "timestamp": 1540226836956,
     "user": {
      "displayName": "Edward Lim",
      "photoUrl": "",
      "userId": "05219823243799720278"
     },
     "user_tz": -60
    },
    "id": "NP6zdeIwMfHN",
    "outputId": "751e2291-db5a-4909-eabb-a199452568ab"
   },
   "outputs": [
    {
     "name": "stdout",
     "output_type": "stream",
     "text": [
      "[[1 2 3 4]]\n",
      "[[ 1  4  9 16]]\n",
      "------------\n",
      "[[1 2 3 4]]\n",
      "[10 11 12]\n"
     ]
    },
    {
     "ename": "ValueError",
     "evalue": "ignored",
     "output_type": "error",
     "traceback": [
      "\u001b[0;31m---------------------------------------------------------------------------\u001b[0m",
      "\u001b[0;31mValueError\u001b[0m                                Traceback (most recent call last)",
      "\u001b[0;32m<ipython-input-39-b5a1eba448d4>\u001b[0m in \u001b[0;36m<module>\u001b[0;34m()\u001b[0m\n\u001b[1;32m      6\u001b[0m \u001b[0mprint\u001b[0m\u001b[0;34m(\u001b[0m\u001b[0ma\u001b[0m\u001b[0;34m)\u001b[0m\u001b[0;34m\u001b[0m\u001b[0m\n\u001b[1;32m      7\u001b[0m \u001b[0mprint\u001b[0m\u001b[0;34m(\u001b[0m\u001b[0mb\u001b[0m\u001b[0;34m)\u001b[0m\u001b[0;34m\u001b[0m\u001b[0m\n\u001b[0;32m----> 8\u001b[0;31m \u001b[0mprint\u001b[0m\u001b[0;34m(\u001b[0m\u001b[0ma\u001b[0m \u001b[0;34m+\u001b[0m \u001b[0mb\u001b[0m\u001b[0;34m)\u001b[0m \u001b[0;31m# add b elementwise to every row of a\u001b[0m\u001b[0;34m\u001b[0m\u001b[0m\n\u001b[0m\u001b[1;32m      9\u001b[0m \u001b[0;34m\u001b[0m\u001b[0m\n\u001b[1;32m     10\u001b[0m \u001b[0mprint\u001b[0m\u001b[0;34m(\u001b[0m\u001b[0;34m'-'\u001b[0m\u001b[0;34m*\u001b[0m\u001b[0;36m12\u001b[0m\u001b[0;34m)\u001b[0m\u001b[0;34m\u001b[0m\u001b[0m\n",
      "\u001b[0;31mValueError\u001b[0m: operands could not be broadcast together with shapes (1,4) (3,) "
     ]
    }
   ],
   "source": [
    "print(a)\n",
    "print(a * a) # multiply each element of a by itself\n",
    "\n",
    "print('-'*12)\n",
    "\n",
    "print(a)\n",
    "print(b)\n",
    "print(a + b) # add b elementwise to every row of a\n",
    "\n",
    "print('-'*12)\n",
    "\n",
    "print(a[:, 0] + b) # add b only to the first column of a"
   ]
  },
  {
   "cell_type": "markdown",
   "metadata": {
    "colab_type": "text",
    "collapsed": true,
    "id": "qCHX-OWiMfHR"
   },
   "source": [
    "Notice that in the last 2 examples above we could perform the operations even though the arrays did not have the same shape. This is one of the most powerful features of Numpy that allows for very efficient computations. You can read more about broadcasting [in the official documentation](https://docs.scipy.org/doc/numpy/user/basics.broadcasting.html) and [here](http://cs231n.github.io/python-numpy-tutorial/#numpy-broadcasting)."
   ]
  },
  {
   "cell_type": "markdown",
   "metadata": {
    "colab_type": "text",
    "id": "ufvedAPBMfHR"
   },
   "source": [
    "#### Built-in functions\n",
    "Numpy has efficient implementations of many standard mathematical and statistical functions."
   ]
  },
  {
   "cell_type": "code",
   "execution_count": 12,
   "metadata": {
    "colab": {
     "base_uri": "https://localhost:8080/",
     "height": 202
    },
    "colab_type": "code",
    "executionInfo": {
     "elapsed": 499,
     "status": "ok",
     "timestamp": 1540225897478,
     "user": {
      "displayName": "Edward Lim",
      "photoUrl": "",
      "userId": "05219823243799720278"
     },
     "user_tz": -60
    },
    "id": "P_kdvkJAMfHS",
    "outputId": "b49add4f-2798-4058-fb34-e7af04f8e781"
   },
   "outputs": [
    {
     "name": "stdout",
     "output_type": "stream",
     "text": [
      "-0.11812032237299164\n",
      "------------\n",
      "True\n",
      "------------\n",
      "1.064319656305765\n",
      "------------\n",
      "-1.4174438684758996\n",
      "------------\n",
      "[ 1.51172422  0.89975446 -3.82892255]\n",
      "------------\n",
      "[-2.87462277  1.04914937 -1.24667917  1.65470871]\n"
     ]
    }
   ],
   "source": [
    "a = np.random.normal(0, 1, (4, 3)) # np.random.normal creates an array of normally-distributed random numbers\n",
    "                                   # with given mean and standard deviation (e.g. 0 and 1) and in given shape.\n",
    "    \n",
    "print(np.mean(a)) # why do we expect this mean to be zero?\n",
    "\n",
    "print('-'*12)\n",
    "\n",
    "print(np.mean(a) == a.mean()) # many functions are also implemented as methods in the ndarray class\n",
    "\n",
    "print('-'*12)\n",
    "\n",
    "print(np.std(a)) # close to 1\n",
    "\n",
    "print('-'*12)\n",
    "\n",
    "print(np.sum(a))  # Compute sum of all elements\n",
    "\n",
    "print('-'*12)\n",
    "\n",
    "print(np.sum(a, axis=0))  # Compute sum of each column\n",
    "\n",
    "print('-'*12)\n",
    "\n",
    "print(np.sum(a, axis=1))  # Compute sum of each row"
   ]
  },
  {
   "cell_type": "markdown",
   "metadata": {
    "colab_type": "text",
    "id": "0Wp3qSU_MfHX"
   },
   "source": [
    "### Exercises"
   ]
  },
  {
   "cell_type": "markdown",
   "metadata": {
    "colab_type": "text",
    "id": "Mgqoe0reMfHX"
   },
   "source": [
    "- create a **6x6 array** of normally distributed random numbers with **mean 5** and **standard deviation 10**. Print its computed mean and standard deviation."
   ]
  },
  {
   "cell_type": "code",
   "execution_count": 0,
   "metadata": {
    "colab": {},
    "colab_type": "code",
    "id": "G7kH2PYoMfHZ"
   },
   "outputs": [],
   "source": [
    "# CODE HERE"
   ]
  },
  {
   "cell_type": "markdown",
   "metadata": {
    "colab_type": "text",
    "id": "5JOrc0NOMfHb"
   },
   "source": [
    "- add 5 to every element of the array from the previous exercise."
   ]
  },
  {
   "cell_type": "code",
   "execution_count": 0,
   "metadata": {
    "colab": {},
    "colab_type": "code",
    "id": "2ewrdmzJMfHb"
   },
   "outputs": [],
   "source": [
    "# CODE HERE"
   ]
  },
  {
   "cell_type": "markdown",
   "metadata": {
    "colab_type": "text",
    "id": "Tdm1oASEMfHe"
   },
   "source": [
    "- multiply the **third column** of the array from the previous exercise by the given array."
   ]
  },
  {
   "cell_type": "code",
   "execution_count": 0,
   "metadata": {
    "colab": {},
    "colab_type": "code",
    "id": "Jh0LvIgbMfHe"
   },
   "outputs": [],
   "source": [
    "b = np.array([0, 1, 0, 1, 0, 1])"
   ]
  },
  {
   "cell_type": "code",
   "execution_count": 0,
   "metadata": {
    "colab": {},
    "colab_type": "code",
    "id": "_mlH9bLHMfHh"
   },
   "outputs": [],
   "source": [
    "# CODE HERE"
   ]
  },
  {
   "cell_type": "markdown",
   "metadata": {
    "colab_type": "text",
    "id": "-TcxmK9oMfHk"
   },
   "source": [
    "- create a 7x7 matrix with 7 on the leading diagonal and 0 everywhere else (**note**: you might find the ```eye``` function useful)."
   ]
  },
  {
   "cell_type": "code",
   "execution_count": 0,
   "metadata": {
    "colab": {},
    "colab_type": "code",
    "id": "t7jTzeyJMfHl"
   },
   "outputs": [],
   "source": [
    "# CODE HERE"
   ]
  },
  {
   "cell_type": "markdown",
   "metadata": {
    "colab_type": "text",
    "id": "gU_ciWelMfHm"
   },
   "source": [
    "- the following array represents the spending, in pounds of 4 people over 5 months (rows represent time and columns the individuals).\n",
    "  Compute the **total spending of person 2**. Compute the **average spending in each month for each person** (**note**: use the ```axis``` argument)."
   ]
  },
  {
   "cell_type": "code",
   "execution_count": 0,
   "metadata": {
    "colab": {},
    "colab_type": "code",
    "id": "2c4XIhX3MfHo"
   },
   "outputs": [],
   "source": [
    "#            person     1        2       3        4      # month\n",
    "spending = np.array([[450.55, 340.67, 1023.98, 765.30],  # 1\n",
    "                     [430.46, 315.99,  998.48, 760.78],  # 2\n",
    "                     [470.30, 320.34, 1013.67, 774.50],  # 3\n",
    "                     [445.62, 400.60, 1020.20, 799.45],  # 4\n",
    "                     [432.01, 330.13, 1011.76, 750.91]]) # 5"
   ]
  },
  {
   "cell_type": "code",
   "execution_count": 0,
   "metadata": {
    "colab": {},
    "colab_type": "code",
    "id": "pCKwT7KoMfHp"
   },
   "outputs": [],
   "source": [
    "# CODE"
   ]
  },
  {
   "cell_type": "markdown",
   "metadata": {
    "colab_type": "text",
    "id": "wojIQ4DLMfHu"
   },
   "source": [
    "- Advanced: the *outer product* of two vectors ```u``` and ```v``` can be obtained by multiplying each element of ```u``` by each element of ```v``` and adding them up. Compute the outer product of the given vectors (**note**: use the ```reshape``` function)."
   ]
  },
  {
   "cell_type": "code",
   "execution_count": 0,
   "metadata": {
    "colab": {},
    "colab_type": "code",
    "id": "DomQpDK8MfHv"
   },
   "outputs": [],
   "source": [
    "v = np.array([1,2,3])\n",
    "w = np.array([4,5])"
   ]
  },
  {
   "cell_type": "code",
   "execution_count": 0,
   "metadata": {
    "colab": {},
    "colab_type": "code",
    "id": "rMSAltZ2MfHw"
   },
   "outputs": [],
   "source": [
    "# CODE HERE"
   ]
  },
  {
   "cell_type": "markdown",
   "metadata": {
    "colab_type": "text",
    "id": "4Cx9b28ZMfHy"
   },
   "source": [
    "### Linear algebra"
   ]
  },
  {
   "cell_type": "markdown",
   "metadata": {
    "colab_type": "text",
    "id": "ugbb7zmUMfHz"
   },
   "source": [
    "Numpy has extensive support for linear algebra operations."
   ]
  },
  {
   "cell_type": "code",
   "execution_count": 0,
   "metadata": {
    "colab": {},
    "colab_type": "code",
    "id": "B4_Lfly4MfH0"
   },
   "outputs": [],
   "source": [
    "u = np.array([4, 2, 5]) # a row vector in R^3, shape (3,)\n",
    "\n",
    "v = np.array([.5, .3, .87])\n",
    "\n",
    "a = np.array([[3, -2,  1],\n",
    "              [9,  6, 10],\n",
    "              [6, -4,  3]]) # a 3x3 matrix\n",
    "\n",
    "b = np.array([[.25,  .2],\n",
    "              [4.3,  .1],\n",
    "              [ 1., .82]]) # a 3x2 matrix\n",
    "\n",
    "print(u.dot(v)) # the dot product of vectors\n",
    "print('-'*12)\n",
    "\n",
    "print(a.dot(u)) # the matrix vector product\n",
    "print('-'*12)\n",
    "\n",
    "print(a.dot(b)) # matrix multiplication\n",
    "print('-'*12)\n",
    "\n",
    "print(np.linalg.norm(u)) # norm aka magnitude of a vector\n",
    "print('-'*12)\n",
    "\n",
    "print(np.outer(u, v)) # uv^T\n",
    "print('-'*12)\n",
    "\n",
    "print(np.transpose(b)) # equivalent to b.T\n",
    "print('-'*12)\n",
    "\n",
    "print(u.T) # note that this does not turn a row vector into column vector\n",
    "           # i.e. the shape of u.T is still (3,)\n",
    "print('-'*12)\n",
    "\n",
    "print(np.linalg.inv(a)) # find the inverse of a matrix, a^-1\n",
    "print('-'*12)\n",
    "\n",
    "print(np.linalg.solve(a, u)) # solve the linear system ax = u for x"
   ]
  },
  {
   "cell_type": "markdown",
   "metadata": {
    "colab_type": "text",
    "id": "eUBqlbMHMfIA"
   },
   "source": [
    "### Exercises"
   ]
  },
  {
   "cell_type": "markdown",
   "metadata": {
    "colab_type": "text",
    "id": "_N1U-g2sMfIB"
   },
   "source": [
    "- write a function to compute the Euclidean distance between two vectors. Evaluate it on the given data."
   ]
  },
  {
   "cell_type": "code",
   "execution_count": 0,
   "metadata": {
    "colab": {},
    "colab_type": "code",
    "id": "V3TDilJJMfIC"
   },
   "outputs": [],
   "source": [
    "u = np.array([.4, .23, .01])\n",
    "v = np.array([.12, 1.1, .5])"
   ]
  },
  {
   "cell_type": "code",
   "execution_count": 0,
   "metadata": {
    "colab": {},
    "colab_type": "code",
    "id": "y1spftGYMfIE"
   },
   "outputs": [],
   "source": [
    "# CODE HERE"
   ]
  },
  {
   "cell_type": "markdown",
   "metadata": {
    "colab_type": "text",
    "id": "gxLDnleTMfIG"
   },
   "source": [
    "- the closed-form solution for the linear regression problem can be written as  \n",
    "  \n",
    " $W = (X^{T}X)^{-1}X^{T}y$  \n",
    "   \n",
    " Compute the weight matrix $W$ for the given data. Check if your weight and bias are close to the true values (2, 5)."
   ]
  },
  {
   "cell_type": "code",
   "execution_count": 0,
   "metadata": {
    "colab": {},
    "colab_type": "code",
    "id": "WO4-YODzMfIH"
   },
   "outputs": [],
   "source": [
    "def f_true(x):\n",
    "    return 2 * x + 5\n",
    "\n",
    "def f(x):\n",
    "    return f_true(x) + np.random.normal(0, 1, xx.shape[0])\n",
    "\n",
    "xx = np.linspace(-10, 10)\n",
    "X = np.ones((xx.shape[0], 2))\n",
    "X[:, 1] = xx\n",
    "y = f(xx)\n",
    "test = np.array([-5.5, 1.2, 4.8, 9.])"
   ]
  },
  {
   "cell_type": "code",
   "execution_count": 0,
   "metadata": {
    "colab": {},
    "colab_type": "code",
    "id": "-e9fmgDRMfIK"
   },
   "outputs": [],
   "source": [
    "# CODE HERE"
   ]
  },
  {
   "cell_type": "markdown",
   "metadata": {
    "colab_type": "text",
    "id": "bQGSWlO0MfIN"
   },
   "source": [
    "### Vectorized functions and speed"
   ]
  },
  {
   "cell_type": "markdown",
   "metadata": {
    "colab_type": "text",
    "id": "dgJXIkzpMfIO"
   },
   "source": [
    "The functions in Numpy, including the mathematical operators are implemented in efficient C code operating on whole arrays. Therefore, it is usually a good idea to avoid element-by-element computations in a ```for``` or a ```while``` loop. Functions that operate on whole arrays are referred to as *vectorized*."
   ]
  },
  {
   "cell_type": "code",
   "execution_count": 0,
   "metadata": {
    "colab": {},
    "colab_type": "code",
    "id": "y5CmZEAEMfIO"
   },
   "outputs": [],
   "source": [
    "# a non-vectorized function\n",
    "def log_pos_p1(x):\n",
    "    \n",
    "    \"\"\"Compute the natural log + 1 of positive elements in x. \n",
    "       Return 0 for elements < 0.\"\"\"\n",
    "    \n",
    "    result = np.zeros_like(x) # create an array of zeros with the same shape and type as x\n",
    "    for i, e in np.ndenumerate(x): # ndenumerate returns tuples (index, element)\n",
    "        if e > 0:\n",
    "            result[i] = np.log(e) + 1\n",
    "    return result\n",
    "            \n",
    "def log_pos_p1_vectorized(x):\n",
    "    # same as above but faster\n",
    "    result = np.zeros_like(x)\n",
    "    result[x > 0] = np.log(x[x > 0]) + 1\n",
    "    return result"
   ]
  },
  {
   "cell_type": "code",
   "execution_count": 0,
   "metadata": {
    "colab": {},
    "colab_type": "code",
    "id": "jk44DCz0MfIQ"
   },
   "outputs": [],
   "source": [
    "x = np.arange(-1000., 1000.)"
   ]
  },
  {
   "cell_type": "code",
   "execution_count": 0,
   "metadata": {
    "colab": {},
    "colab_type": "code",
    "id": "kauQ8lUbMfIS"
   },
   "outputs": [],
   "source": [
    "%timeit log_pos_p1(x)"
   ]
  },
  {
   "cell_type": "code",
   "execution_count": 0,
   "metadata": {
    "colab": {},
    "colab_type": "code",
    "id": "A4-813muMfIY"
   },
   "outputs": [],
   "source": [
    "%timeit log_pos_p1_vectorized(x)"
   ]
  },
  {
   "cell_type": "code",
   "execution_count": 0,
   "metadata": {
    "colab": {},
    "colab_type": "code",
    "id": "8_6fUmDgMfIa"
   },
   "outputs": [],
   "source": [
    "# check if the results are correct\n",
    "result_slow = log_pos_p1(x)\n",
    "result_vectorized = log_pos_p1_vectorized(x)\n",
    "np.allclose(result_slow, result_vectorized)"
   ]
  },
  {
   "cell_type": "markdown",
   "metadata": {
    "colab_type": "text",
    "id": "MCJ7Fa25jGHe"
   },
   "source": [
    "The function ```np.allclose()``` compares if two results are equal to within some error. If you'd like to know the details, google the function!"
   ]
  },
  {
   "cell_type": "markdown",
   "metadata": {
    "colab_type": "text",
    "id": "6hgoDk09MfIc"
   },
   "source": [
    "### Exercises"
   ]
  },
  {
   "cell_type": "markdown",
   "metadata": {
    "colab_type": "text",
    "id": "DhFtK2WKMfIc"
   },
   "source": [
    "- the *rectified linear unit* (aka ReLU) is a commonly used activation function in machine learning. It can be computed using the following Python function:\n",
    "  ```python\n",
    "     def relu(x):\n",
    "        result = np.zeros_like(x) # create an array of 0s with the same shape and type as x\n",
    "        for i, e in np.ndenumerate(x): # ndenumerate returns tuples (index, element)\n",
    "            if x > 0:\n",
    "                result[i] = e\n",
    "        return result\n",
    "  ```\n",
    "  Vectorize this function. Evaluate the running time using the ```%timeit``` command on the data below *[2]*."
   ]
  },
  {
   "cell_type": "code",
   "execution_count": 0,
   "metadata": {
    "colab": {},
    "colab_type": "code",
    "id": "C1dGtk_xMfId"
   },
   "outputs": [],
   "source": [
    "def relu(x):\n",
    "    result = np.zeros_like(x) # create an array of 0s with the same shape and type as x\n",
    "    for i, e in np.ndenumerate(x): # ndenumerate returns tuples (index, element)\n",
    "        if e > 0:\n",
    "            result[i] = e\n",
    "    return result\n",
    "\n",
    "x = np.arange(-10000., 10000.)"
   ]
  },
  {
   "cell_type": "code",
   "execution_count": 7,
   "metadata": {
    "colab": {
     "base_uri": "https://localhost:8080/",
     "height": 34
    },
    "colab_type": "code",
    "executionInfo": {
     "elapsed": 631,
     "status": "ok",
     "timestamp": 1540225578174,
     "user": {
      "displayName": "Edward Lim",
      "photoUrl": "",
      "userId": "05219823243799720278"
     },
     "user_tz": -60
    },
    "id": "Abhl6MFdMfIh",
    "outputId": "0e50fe13-60cb-466c-95cc-a1498e6a2e06"
   },
   "outputs": [
    {
     "name": "stdout",
     "output_type": "stream",
     "text": [
      "[   0.    0.    0. ... 9997. 9998. 9999.]\n"
     ]
    }
   ],
   "source": [
    "# CODE HERE"
   ]
  },
  {
   "cell_type": "markdown",
   "metadata": {
    "colab_type": "text",
    "id": "UUfgqUIGMfIi"
   },
   "source": [
    "- the integral of a function can be numerically approximated using the *trapezoidal rule*, defined as:  \n",
    "  $\\displaystyle\\int_{a}^{b}f(x)dx \\approx \\frac{h}{2}f(a) + \\frac{h}{2}f(b) + h\\displaystyle\\sum_{i=1}^{n-1}f(a + ih), \\space h = \\frac{b - a}{n}$  \n",
    "  Write a vectorized function to integrate a function using the trapezoidal rule. It should accept as arguments the function to integrate, the lower and upper bounds and the number of iterations $n$. **Do not** use an explicit ```for```-loop for the summation. Use your function to intergrate $x^3$ from 0 to 1 using $n=1000$ (the true value of this integral is $\\frac{1}{4}$)."
   ]
  },
  {
   "cell_type": "code",
   "execution_count": 0,
   "metadata": {
    "colab": {},
    "colab_type": "code",
    "id": "y8BoxE-XMfIj"
   },
   "outputs": [],
   "source": [
    "def f(x):\n",
    "    return x ** 3\n",
    "\n",
    "a = 0\n",
    "b = 1\n",
    "n = 1000000"
   ]
  },
  {
   "cell_type": "code",
   "execution_count": 0,
   "metadata": {
    "colab": {},
    "colab_type": "code",
    "id": "LiqI_aGiMfIl"
   },
   "outputs": [],
   "source": [
    "# CODE HERE"
   ]
  },
  {
   "cell_type": "markdown",
   "metadata": {
    "colab_type": "text",
    "id": "jElZUKCZMfIn"
   },
   "source": [
    "## Challenges"
   ]
  },
  {
   "cell_type": "markdown",
   "metadata": {
    "colab_type": "text",
    "id": "1QEdh417MfIn"
   },
   "source": [
    "- Write a function to compute the elements of the Mandelbrot set with given resolution *[3]*. Estimate the area of the computed set *[2]*. Make the function as fast as possible using vectorization *[3]*."
   ]
  },
  {
   "cell_type": "markdown",
   "metadata": {
    "colab_type": "text",
    "id": "OdHOLLJvMfIp"
   },
   "source": [
    "## Matplotlib Visualization"
   ]
  },
  {
   "cell_type": "markdown",
   "metadata": {
    "colab_type": "text",
    "id": "hDfruBVGMfIq"
   },
   "source": [
    "As its name conveys, `matplotlib` is a plotting library inspired by the `MATLAB` plotting `API`.<br>\n",
    "`seaborn` is a wrapper library for `matplotlib`, encapsulating some of the low-level functionalities of it.<br><br>\n",
    "This is a beginers-level tutorial to `matplotlib` using `seaborn` palettes for \"prettifying\" the plots. Similar results can be replicated by just using `matplotlib`."
   ]
  },
  {
   "cell_type": "markdown",
   "metadata": {
    "colab_type": "text",
    "id": "fRI8VyZ_MfIq"
   },
   "source": [
    "## `inline` mode\n",
    "\n",
    "When working on an interactive environment, such as `IPython` (and `Jupyter`), there is the option of draw plots without calling the `.show()` method, which is necessary for `script` mode. To do so, use the oneliner below."
   ]
  },
  {
   "cell_type": "code",
   "execution_count": 0,
   "metadata": {
    "colab": {},
    "colab_type": "code",
    "id": "KLM-B2e_MfIq"
   },
   "outputs": [],
   "source": [
    "# show plots without need of calling `.show()`\n",
    "%matplotlib inline"
   ]
  },
  {
   "cell_type": "code",
   "execution_count": 0,
   "metadata": {
    "colab": {},
    "colab_type": "code",
    "id": "qIw4mUuOMfIv"
   },
   "outputs": [],
   "source": [
    "# scientific computing library\n",
    "import numpy as np\n",
    "\n",
    "# visualization tools\n",
    "import matplotlib.pyplot as plt\n",
    "import seaborn as sns\n",
    "\n",
    "# prettify plots\n",
    "plt.rcParams['figure.figsize'] = [20.0, 5.0] # setting the resulting figure size, in centimeters\n",
    "sns.set_palette(sns.color_palette(\"muted\")) \n",
    "sns.set_style(\"ticks\")\n",
    "\n",
    "# supress warnings\n",
    "import warnings\n",
    "warnings.filterwarnings('ignore')\n",
    "\n",
    "# set random seed (this sets the initial conditions for a random number generator)\n",
    "np.random.seed(0)"
   ]
  },
  {
   "cell_type": "markdown",
   "metadata": {
    "colab_type": "text",
    "id": "PWx0F2lvMfIw"
   },
   "source": [
    "## Simple Plot\n",
    "\n",
    "How to plot a 2D plot of two variables $x$ and $y$.<br><br>\n",
    "\n",
    "**Warning**<br>\n",
    "The length of the two variables should match, such that `len(x) == len(y)`."
   ]
  },
  {
   "cell_type": "markdown",
   "metadata": {
    "colab_type": "text",
    "id": "QauliSJ-MfIw"
   },
   "source": [
    "### Single"
   ]
  },
  {
   "cell_type": "code",
   "execution_count": 0,
   "metadata": {
    "colab": {},
    "colab_type": "code",
    "id": "2ZcKDAQsMfIx"
   },
   "outputs": [],
   "source": [
    "# x-axis variable\n",
    "x = np.linspace(-2*np.pi, 2*np.pi)\n",
    "# y-axis variable\n",
    "y = np.cos(x)\n",
    "\n",
    "# making sure that the length of the two variables match\n",
    "assert(len(x) == len(y))\n",
    "# visualize\n",
    "plt.plot(x, y);\n",
    "\n",
    "# WARNING: Don't forget this line in `script` mode\n",
    "# plt.show()"
   ]
  },
  {
   "cell_type": "markdown",
   "metadata": {
    "colab_type": "text",
    "id": "pg2UWLvXMfIz"
   },
   "source": [
    "### Multiple\n",
    "\n",
    "Plot two functions $f$ and $g$ against the independent variable $x$ **on the same graph**."
   ]
  },
  {
   "cell_type": "code",
   "execution_count": 0,
   "metadata": {
    "colab": {},
    "colab_type": "code",
    "id": "nzabT__-MfI0"
   },
   "outputs": [],
   "source": [
    "# x-axis variable\n",
    "x = np.linspace(-2*np.pi, 2*np.pi)\n",
    "# y-axis variable\n",
    "y_cos = np.cos(x)\n",
    "y_sin = np.sin(x)\n",
    "\n",
    "# visualize\n",
    "plt.plot(x, y_cos)\n",
    "plt.plot(x, y_sin);\n",
    "\n",
    "# WARNING: Don't forget this line in `script` mode\n",
    "# plt.show()"
   ]
  },
  {
   "cell_type": "markdown",
   "metadata": {
    "colab_type": "text",
    "id": "EqjjPWyqMfI2"
   },
   "source": [
    "### Metadata\n",
    "\n",
    "Provide \"metadata\" for our plot, such as:\n",
    "* title\n",
    "* axes labels\n",
    "* legend"
   ]
  },
  {
   "cell_type": "code",
   "execution_count": 0,
   "metadata": {
    "colab": {},
    "colab_type": "code",
    "id": "XzIOcs0NMfI2"
   },
   "outputs": [],
   "source": [
    "# x-axis variable\n",
    "x = np.linspace(-2*np.pi, 2*np.pi)\n",
    "# y-axis variable\n",
    "y_cos = np.cos(x)\n",
    "y_sin = np.sin(x)\n",
    "\n",
    "# visualize\n",
    "plt.plot(x, y_cos, label=\"cos(x)\") # `label` argument is used in the plot legend to represent this curve\n",
    "plt.plot(x, y_sin, label=\"sin(x)\")\n",
    "\n",
    "# meta data\n",
    "plt.title(\"Simple Plot\")\n",
    "plt.xlabel(\"independent variable\")\n",
    "plt.ylabel(\"function values\")\n",
    "plt.legend()\n",
    "\n",
    "# WARNING: Don't forget this line in `script` mode\n",
    "# plt.show()"
   ]
  },
  {
   "cell_type": "markdown",
   "metadata": {
    "colab_type": "text",
    "id": "BRjtIMwxMfI5"
   },
   "source": [
    "### Styling\n",
    "\n",
    "Advanced styling and formating options are available, such as:\n",
    "* marker style\n",
    "* line style\n",
    "* color\n",
    "* linewidth"
   ]
  },
  {
   "cell_type": "code",
   "execution_count": 0,
   "metadata": {
    "colab": {},
    "colab_type": "code",
    "id": "ShWaQTAwMfI6"
   },
   "outputs": [],
   "source": [
    "# x-axis variable\n",
    "x = np.linspace(-2*np.pi, 2*np.pi)\n",
    "# y-axis variable\n",
    "y_cos = np.cos(x)\n",
    "y_sin = np.sin(x)\n",
    "y_mix = y_cos + y_sin\n",
    "\n",
    "# visualize\n",
    "plt.plot(x, y_cos, linestyle=\"-\",  marker=\"o\", label=\"cos(x)\", linewidth=1) \n",
    "plt.plot(x, y_sin, linestyle=\"--\", marker=\"x\", label=\"sin(x)\", linewidth=3)\n",
    "plt.plot(x, y_mix, linestyle=\"-.\", marker=\"*\", label=\"cos(x) + sin(x)\", color='orange')\n",
    "\n",
    "# prettifying the plot, setting the text sizes etc\n",
    "font = {'family' : 'normal',\n",
    "        'weight' : 'bold',\n",
    "        'size'   : 15}\n",
    "\n",
    "plt.rc('font', **font)\n",
    "\n",
    "# meta data\n",
    "plt.title(\"Simple Plot\")\n",
    "plt.xlabel(\"independent variable\")\n",
    "plt.ylabel(\"function values\")\n",
    "plt.legend();\n",
    "\n",
    "# WARNING: Don't forget this line in `script` mode\n",
    "# plt.show()"
   ]
  },
  {
   "cell_type": "markdown",
   "metadata": {
    "colab_type": "text",
    "id": "OneI8PvEMfI7"
   },
   "source": [
    "### Task (Activation Functions Plots)\n",
    "\n",
    "In neural networks, various activation functions are used, some of which are illustrated below! ![yo](http://rasbt.github.io/mlxtend/user_guide/general_concepts/activation-functions_files/activation-functions.png)\n",
    "\n",
    "**TODO**<br>\n",
    "Choose 2 activation functions,\n",
    "* **implement** them (as we did for $cos(x)$ and $sin(x)$ functions)\n",
    "* **plot** them in the same graph, using `plt.plot`\n",
    "\n",
    "Make sure you provide a title, axes label and a legend!\n",
    "\n",
    "Don't forget to put your personal tone to this task and style the plot!!"
   ]
  },
  {
   "cell_type": "code",
   "execution_count": 0,
   "metadata": {
    "colab": {},
    "colab_type": "code",
    "id": "nwilO2v9MfI8"
   },
   "outputs": [],
   "source": [
    "# CODE HERE"
   ]
  },
  {
   "cell_type": "markdown",
   "metadata": {
    "colab_type": "text",
    "id": "eE2Rlfp9MfI9"
   },
   "source": [
    "## Histogram\n",
    "\n",
    "When working with random variables, in a stochastic setting, **histograms** are a very representative way to visualize the random variables probability density functions.<br><br>\n",
    "\n",
    "**Warning**<br>\n",
    "Histograms are visualizing the distribution of a **single random variable**, so make sure you notice the difference between:\n",
    "* `plt.plot(x, y)`\n",
    "<br>\n",
    "<br>\n",
    "* `plt.hist(z)`"
   ]
  },
  {
   "cell_type": "markdown",
   "metadata": {
    "colab_type": "text",
    "id": "4asTs5ceMfI-"
   },
   "source": [
    "### `plt.hist`"
   ]
  },
  {
   "cell_type": "code",
   "execution_count": 0,
   "metadata": {
    "colab": {},
    "colab_type": "code",
    "id": "XB_Q9cqHMfI-"
   },
   "outputs": [],
   "source": [
    "# uniform random variable\n",
    "u = np.random.uniform(-1, 1, 1000)\n",
    "\n",
    "# visualize\n",
    "plt.hist(u, label=\"Uniform Distribution\")\n",
    "\n",
    "# metadata\n",
    "plt.title(\"Matplotlib Histogram\")\n",
    "plt.xlabel(\"random variable (binned)\")\n",
    "plt.ylabel(\"frequency\")\n",
    "plt.legend();\n",
    "# WARNING: Don't forget this line in `script` mode\n",
    "# plt.show()"
   ]
  },
  {
   "cell_type": "markdown",
   "metadata": {
    "colab_type": "text",
    "id": "NpVLmDDiMfJA"
   },
   "source": [
    "### `sns.distplot`\n",
    "\n",
    "`seaborn` wraps `plt.hist` method and applies also some **KDE** (Kernel Distribution Estimation), providing a better insight into the distribution of the random variable."
   ]
  },
  {
   "cell_type": "code",
   "execution_count": 0,
   "metadata": {
    "colab": {},
    "colab_type": "code",
    "id": "XefEDj7yMfJC"
   },
   "outputs": [],
   "source": [
    "# uniform random variable\n",
    "u = np.random.uniform(-1, 1, 1000)\n",
    "\n",
    "# visualize\n",
    "sns.distplot(u, label=\"Uniform Distribution\")\n",
    "\n",
    "# metadata\n",
    "plt.title(\"Seaborn Distribution Plot\")\n",
    "plt.xlabel(\"random variable (binned)\")\n",
    "plt.ylabel(\"frequency\")\n",
    "plt.legend();\n",
    "# WARNING: Don't forget this line in `script` mode\n",
    "# plt.show()"
   ]
  },
  {
   "cell_type": "markdown",
   "metadata": {
    "colab_type": "text",
    "id": "TztvDsHtMfJE"
   },
   "source": [
    "### Task (Stochastic Processes Distributions Plots)\n",
    "\n",
    "We covered only the uniform distribution, but there are many more already implemented in `NumPy`. Generate similar plots for other distributions of your choice.\n",
    "\n",
    "**TODO**<br>\n",
    "Choose 2 [distributions](https://docs.scipy.org/doc/numpy-1.13.0/reference/routines.random.html#distributions),\n",
    "* **implement** them (as we did for uniform distribution)\n",
    "* **plot** them in the same graph, using `plt.hist` or `sns.distplot`\n",
    "\n",
    "Make sure you provide a title, axes label and a legend!\n",
    "\n",
    "Don't forget to put your personal tone to this task and style the plot!!"
   ]
  },
  {
   "cell_type": "code",
   "execution_count": 0,
   "metadata": {
    "colab": {},
    "colab_type": "code",
    "id": "1f3EsH0FMfJE"
   },
   "outputs": [],
   "source": [
    "# CODE HERE"
   ]
  },
  {
   "cell_type": "markdown",
   "metadata": {
    "colab_type": "text",
    "id": "ZG9RzIyeMfJG"
   },
   "source": [
    "## SciPy Optimization"
   ]
  },
  {
   "cell_type": "code",
   "execution_count": 0,
   "metadata": {
    "colab": {},
    "colab_type": "code",
    "id": "iA_nTb8TMfJH"
   },
   "outputs": [],
   "source": [
    "# scientific computing library\n",
    "import numpy as np\n",
    "# optimization package\n",
    "from scipy.optimize import minimize\n",
    "\n",
    "# visualization tools\n",
    "import matplotlib.pyplot as plt\n",
    "import seaborn as sns\n",
    "\n",
    "# show plots without need of calling `.show()`\n",
    "%matplotlib inline\n",
    "\n",
    "# prettify plots\n",
    "plt.rcParams['figure.figsize'] = [20.0, 5.0]\n",
    "sns.set_palette(sns.color_palette(\"muted\"))\n",
    "sns.set_style(\"ticks\")\n",
    "\n",
    "# supress warnings\n",
    "import warnings\n",
    "warnings.filterwarnings('ignore')\n",
    "\n",
    "# set random seed\n",
    "np.random.seed(0)"
   ]
  },
  {
   "cell_type": "markdown",
   "metadata": {
    "colab_type": "text",
    "id": "56NzGN4tMfJJ"
   },
   "source": [
    "Find **global minimizer** of function $f$:\n",
    "$$f(x) = x^{2} - 2x + 5sin(x), \\quad x \\in \\mathcal{R}$$"
   ]
  },
  {
   "cell_type": "code",
   "execution_count": 0,
   "metadata": {
    "colab": {},
    "colab_type": "code",
    "id": "-1TyDLTDMfJJ"
   },
   "outputs": [],
   "source": [
    "# function definition\n",
    "def f(x):\n",
    "    return x**2 - 2*x + 5*np.sin(x)"
   ]
  },
  {
   "cell_type": "code",
   "execution_count": 15,
   "metadata": {
    "colab": {
     "base_uri": "https://localhost:8080/",
     "height": 382
    },
    "colab_type": "code",
    "executionInfo": {
     "elapsed": 980,
     "status": "ok",
     "timestamp": 1540226034028,
     "user": {
      "displayName": "Edward Lim",
      "photoUrl": "",
      "userId": "05219823243799720278"
     },
     "user_tz": -60
    },
    "id": "cBS7AGJsMfJK",
    "outputId": "248663e3-2cc7-4917-ef0e-6a47e1886ec4",
    "scrolled": true
   },
   "outputs": [
    {
     "name": "stdout",
     "output_type": "stream",
     "text": [
      "Minimizer: [-0.77901606]\n",
      "Message: Optimization terminated successfully.\n",
      "Success: True\n"
     ]
    },
    {
     "data": {
      "image/png": "[encoded data removed]",
      "text/plain": [
       "<matplotlib.figure.Figure at 0x7f4f9d8ba7b8>"
      ]
     },
     "metadata": {
      "tags": []
     },
     "output_type": "display_data"
    }
   ],
   "source": [
    "\"\"\"\n",
    "`minimize(fun, x0, method, tol)`:\n",
    "    \n",
    "    Parameters\n",
    "    ----------\n",
    "    fun: callable\n",
    "        Objective function\n",
    "    x0: numpy.ndarray\n",
    "        Initial guess\n",
    "    str: string or callable\n",
    "        Type of solver, consult\n",
    "            [docs](https://docs.scipy.org/doc/scipy-0.19.1/reference/generated/scipy.optimize.minimize.html)\n",
    "    tol: float\n",
    "        Tolerance for termination\n",
    "   \n",
    "    Returns\n",
    "    -------\n",
    "    result: OptimizeResult\n",
    "        x: numpy.ndarray\n",
    "            Minimum\n",
    "        success: bool\n",
    "            Status of optomization\n",
    "        message: string\n",
    "            Description of cause of termination\n",
    "\"\"\"\n",
    "result = minimize(fun=f, x0=np.random.randn())\n",
    "# report\n",
    "print(\"Minimizer:\", result.x)\n",
    "print(\"Message:\", result.message)\n",
    "print(\"Success:\", result.success)\n",
    "\n",
    "# visualization\n",
    "t = np.linspace(-5, 5)\n",
    "plt.plot(t, f(t), label='Objective Function')\n",
    "plt.plot(result.x, f(result.x), 'ro', label='Global Minimum')\n",
    "plt.legend();"
   ]
  },
  {
   "cell_type": "markdown",
   "metadata": {
    "colab_type": "text",
    "id": "89XJz-HtMfJM"
   },
   "source": [
    "### Task (Polynomial Optimization)\n",
    "\n",
    "Convex optimization is a useful tool that can be applied to various objective functions.\n",
    "\n",
    "**TODO**<br>\n",
    "Use `scipy.optimize.minimize` function to minimize $f(x) = 2 - 9x + x^2, x \\in \\mathcal{R}$."
   ]
  },
  {
   "cell_type": "code",
   "execution_count": 0,
   "metadata": {
    "colab": {},
    "colab_type": "code",
    "id": "tftbem9eMfJN"
   },
   "outputs": [],
   "source": [
    "## CODE HERE"
   ]
  }
 ],
 "metadata": {
  "colab": {
   "name": "lec_2.ipynb",
   "provenance": [],
   "version": "0.3.2"
  },
  "kernelspec": {
   "display_name": "Python 3",
   "language": "python",
   "name": "python3"
  },
  "language_info": {
   "codemirror_mode": {
    "name": "ipython",
    "version": 3
   },
   "file_extension": ".py",
   "mimetype": "text/x-python",
   "name": "python",
   "nbconvert_exporter": "python",
   "pygments_lexer": "ipython3",
   "version": "3.6.7"
  }
 },
 "nbformat": 4,
 "nbformat_minor": 1
}
