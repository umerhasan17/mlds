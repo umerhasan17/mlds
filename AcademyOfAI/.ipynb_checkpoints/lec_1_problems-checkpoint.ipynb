{
 "cells": [
  {
   "cell_type": "markdown",
   "metadata": {
    "colab_type": "text",
    "id": "Z1S08dsfhQgI"
   },
   "source": [
    "#### Task 1:\n",
    "    - Try out various variable names, are the following allowed? icdss_1, 1icdss, icdss@ic, my fav soc?\n",
    "    - Are variable names case-sensitive? Are the variables save and savE different?\n",
    "    - What happens if we assign the same variable to two different values?\n",
    "    - What happens if we assign the same value to two different variables?\n",
    "    - If we apply a mathematical operation to a variable, does the variable change?\n",
    "    - What happens if we save an expression containing a variable to the variable itself?"
   ]
  },
  {
   "cell_type": "markdown",
   "metadata": {
    "colab_type": "text",
    "id": "XWB9o2VthQgJ"
   },
   "source": [
    "#### Task 2:\n",
    "\n",
    "    What is the largest number in the fibonacci sequence smaller than $10^{22}$?"
   ]
  },
  {
   "cell_type": "markdown",
   "metadata": {
    "colab_type": "text",
    "id": "mMtys5dYhQgJ"
   },
   "source": [
    "#### Task 3:\n",
    "    \n",
    "    Use the for loop to find the largest number (to within a factor of two) that can be saved as a float and is not converted to infinity, \"infinity\" can be assigned to a variable in the following way infinity = float(\"inf\").\n",
    "    "
   ]
  },
  {
   "cell_type": "markdown",
   "metadata": {
    "colab_type": "text",
    "id": "UAgpt8zuhQgK"
   },
   "source": [
    "#### Task 4:\n",
    "    \n",
    "    Create the following list: [\"vanilla\", \"strawberry\", \"chocolate\", \"bacon\", \"egg\", \"snail\", \"carousel\"]\n",
    "    \n",
    "    - Swap the order of the first two elements in the list\n",
    "    - Reverse the order of the list using only slicing -> [:]\n",
    "    "
   ]
  },
  {
   "cell_type": "markdown",
   "metadata": {
    "colab_type": "text",
    "id": "P_Hm_39jhQgL"
   },
   "source": [
    "#### Task 5:\n",
    "    \n",
    "    Create the following lists: x = [1,2,3,4,5,6,7,8,9], y = x, z = x[:]\n",
    "    \n",
    "    - Try if the lists are equal ==\n",
    "    - Try to change some elements in the list y and z, does the list x change?"
   ]
  },
  {
   "cell_type": "markdown",
   "metadata": {
    "colab_type": "text",
    "id": "q9nV4QyDhQgM"
   },
   "source": [
    "#### Task 6:\n",
    "    \n",
    "    Swap the first two elements in the list from task 4 without creating any new variables"
   ]
  },
  {
   "cell_type": "markdown",
   "metadata": {
    "colab_type": "text",
    "id": "mu_Xx9zOhQgO"
   },
   "source": [
    "#### Task 7:\n",
    "    \n",
    "    Create three lists: food = [schnitzel, salad, soup, noodles, bread, fish], unavailable = [salad, noodles, bread], new = [baklawa, krowka, schnitzel]\n",
    "    \n",
    "    - Remove all 'unavailable' food from the list 'food', add all 'new' food to the list 'food'. Make sure each food is in the list only once.\n",
    "        "
   ]
  },
  {
   "cell_type": "markdown",
   "metadata": {
    "colab_type": "text",
    "id": "ekCsMh-WhQgP"
   },
   "source": [
    "#### Task 8:\n",
    "    \n",
    "    Code a while cycle using the for loop"
   ]
  },
  {
   "cell_type": "markdown",
   "metadata": {
    "colab_type": "text",
    "id": "Q25FKmGohQgP"
   },
   "source": [
    "#### Task 9:\n",
    "    \n",
    "    Create a list containing all whole numbers smaller than 1000 that can be written as a sum of two whole number squares."
   ]
  },
  {
   "cell_type": "markdown",
   "metadata": {
    "colab_type": "text",
    "id": "HG0NNPZhhQgR"
   },
   "source": [
    "#### Task 10:\n",
    "    \n",
    "    Write a function that will take two whole numbers as its input, and finds all fibonacci numbers inbetween them. If the user specifies only a single number in the input, find all fibonacci numbers smaller than the input."
   ]
  },
  {
   "cell_type": "markdown",
   "metadata": {
    "colab_type": "text",
    "id": "5SPrMYyqhetF"
   },
   "source": [
    "### Short Projects:\n",
    "    \n",
    "    Write a function that finds the square root of a number using the bisection method.\n",
    "    \n",
    "    Write a function that finds the square root of a number using the Newton-Raphson method. \n",
    "    \n",
    "    Compare the convergence speed of the two methods.\n",
    "    \n",
    "    More information can be found here: https://en.wikipedia.org/wiki/Bisection_method\n",
    "                                        https://en.wikipedia.org/wiki/Newton%27s_method\n"
   ]
  },
  {
   "cell_type": "markdown",
   "metadata": {
    "colab_type": "text",
    "collapsed": true,
    "id": "w9dEk91vhQgS"
   },
   "source": [
    "***\n",
    "For more interesting problems check out https://projecteuler.net/"
   ]
  }
 ],
 "metadata": {
  "colab": {
   "collapsed_sections": [],
   "name": "Problems_Introduction_to_Python.ipynb",
   "provenance": [],
   "version": "0.3.2"
  },
  "kernelspec": {
   "display_name": "Python 3",
   "language": "python",
   "name": "python3"
  },
  "language_info": {
   "codemirror_mode": {
    "name": "ipython",
    "version": 3
   },
   "file_extension": ".py",
   "mimetype": "text/x-python",
   "name": "python",
   "nbconvert_exporter": "python",
   "pygments_lexer": "ipython3",
   "version": "3.6.7"
  }
 },
 "nbformat": 4,
 "nbformat_minor": 1
}
